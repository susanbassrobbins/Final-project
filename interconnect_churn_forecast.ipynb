{
 "cells": [
  {
   "cell_type": "markdown",
   "metadata": {},
   "source": [
    "# Interconnect: Forecasting Churn\n",
    "\n",
    "The telecom operator Interconnect would like to be able to forecast their churn of clients. If it is discovered that a user is planning to leave, they will be offered promotional codes and special plan options. This company provides two types of services: landline communication and internet. The company also provides some other services such as internet security,\n",
    "a dedicated technical support line, cloud file storage and data backup, and TV streaming and a movie directory. The clients can choose either a monthly payment or sign a 1- or 2-year contract.\n",
    "\n",
    "The data consists of files obtained from different sources:\n",
    "\n",
    " - contract.csv — contract information\n",
    " - personal.csv — the client's personal data\n",
    " - internet.csv — information about Internet services\n",
    " - phone.csv — information about telephone services\n",
    "\n",
    "In each file, the column customerID contains a unique code assigned to each client.\n",
    "\n",
    "Our target feature is the EndDate column, and the primary metric is AUC-ROC."
   ]
  },
  {
   "cell_type": "markdown",
   "metadata": {},
   "source": [
    "##  Initialization and Loading the Data"
   ]
  },
  {
   "cell_type": "code",
   "execution_count": 1,
   "metadata": {},
   "outputs": [],
   "source": [
    "import pandas as pd\n",
    "import numpy as np\n",
    "import matplotlib.pyplot as plt\n",
    "import re\n",
    "\n",
    "from sklearn.model_selection import train_test_split\n",
    "from sklearn.preprocessing import StandardScaler\n",
    "from sklearn.utils import resample\n",
    "from sklearn.utils import shuffle\n",
    "\n",
    "from sklearn.linear_model import LogisticRegression\n",
    "from xgboost import XGBClassifier\n",
    "import lightgbm as lgb\n",
    "from catboost import CatBoostClassifier\n",
    "\n",
    "from sklearn.model_selection import RandomizedSearchCV\n",
    "from sklearn.metrics import roc_auc_score, accuracy_score, roc_curve"
   ]
  },
  {
   "cell_type": "code",
   "execution_count": 2,
   "metadata": {},
   "outputs": [],
   "source": [
    "contract = pd.read_csv('C:/Users/susan/Documents/TripleTen/Final project/final_provider (1)/final_provider/contract.csv')\n",
    "personal = pd.read_csv('C:/Users/susan/Documents/TripleTen/Final project/final_provider (1)/final_provider/personal.csv')\n",
    "internet = pd.read_csv('C:/Users/susan/Documents/TripleTen/Final project/final_provider (1)/final_provider/internet.csv')\n",
    "phone = pd.read_csv('C:/Users/susan/Documents/TripleTen/Final project/final_provider (1)/final_provider/phone.csv')"
   ]
  },
  {
   "cell_type": "code",
   "execution_count": 3,
   "metadata": {},
   "outputs": [
    {
     "name": "stdout",
     "output_type": "stream",
     "text": [
      "<class 'pandas.core.frame.DataFrame'>\n",
      "RangeIndex: 7043 entries, 0 to 7042\n",
      "Data columns (total 8 columns):\n",
      " #   Column            Non-Null Count  Dtype  \n",
      "---  ------            --------------  -----  \n",
      " 0   customerID        7043 non-null   object \n",
      " 1   BeginDate         7043 non-null   object \n",
      " 2   EndDate           7043 non-null   object \n",
      " 3   Type              7043 non-null   object \n",
      " 4   PaperlessBilling  7043 non-null   object \n",
      " 5   PaymentMethod     7043 non-null   object \n",
      " 6   MonthlyCharges    7043 non-null   float64\n",
      " 7   TotalCharges      7043 non-null   object \n",
      "dtypes: float64(1), object(7)\n",
      "memory usage: 440.3+ KB\n"
     ]
    }
   ],
   "source": [
    "contract.info()"
   ]
  },
  {
   "cell_type": "code",
   "execution_count": 4,
   "metadata": {},
   "outputs": [
    {
     "name": "stdout",
     "output_type": "stream",
     "text": [
      "<class 'pandas.core.frame.DataFrame'>\n",
      "RangeIndex: 7043 entries, 0 to 7042\n",
      "Data columns (total 5 columns):\n",
      " #   Column         Non-Null Count  Dtype \n",
      "---  ------         --------------  ----- \n",
      " 0   customerID     7043 non-null   object\n",
      " 1   gender         7043 non-null   object\n",
      " 2   SeniorCitizen  7043 non-null   int64 \n",
      " 3   Partner        7043 non-null   object\n",
      " 4   Dependents     7043 non-null   object\n",
      "dtypes: int64(1), object(4)\n",
      "memory usage: 275.2+ KB\n"
     ]
    }
   ],
   "source": [
    "personal.info()"
   ]
  },
  {
   "cell_type": "code",
   "execution_count": 5,
   "metadata": {},
   "outputs": [
    {
     "name": "stdout",
     "output_type": "stream",
     "text": [
      "<class 'pandas.core.frame.DataFrame'>\n",
      "RangeIndex: 5517 entries, 0 to 5516\n",
      "Data columns (total 8 columns):\n",
      " #   Column            Non-Null Count  Dtype \n",
      "---  ------            --------------  ----- \n",
      " 0   customerID        5517 non-null   object\n",
      " 1   InternetService   5517 non-null   object\n",
      " 2   OnlineSecurity    5517 non-null   object\n",
      " 3   OnlineBackup      5517 non-null   object\n",
      " 4   DeviceProtection  5517 non-null   object\n",
      " 5   TechSupport       5517 non-null   object\n",
      " 6   StreamingTV       5517 non-null   object\n",
      " 7   StreamingMovies   5517 non-null   object\n",
      "dtypes: object(8)\n",
      "memory usage: 344.9+ KB\n"
     ]
    }
   ],
   "source": [
    "internet.info()"
   ]
  },
  {
   "cell_type": "code",
   "execution_count": 6,
   "metadata": {},
   "outputs": [
    {
     "name": "stdout",
     "output_type": "stream",
     "text": [
      "<class 'pandas.core.frame.DataFrame'>\n",
      "RangeIndex: 6361 entries, 0 to 6360\n",
      "Data columns (total 2 columns):\n",
      " #   Column         Non-Null Count  Dtype \n",
      "---  ------         --------------  ----- \n",
      " 0   customerID     6361 non-null   object\n",
      " 1   MultipleLines  6361 non-null   object\n",
      "dtypes: object(2)\n",
      "memory usage: 99.5+ KB\n"
     ]
    }
   ],
   "source": [
    "phone.info()"
   ]
  },
  {
   "cell_type": "code",
   "execution_count": 7,
   "metadata": {},
   "outputs": [
    {
     "name": "stdout",
     "output_type": "stream",
     "text": [
      "0\n",
      "0\n",
      "0\n",
      "0\n"
     ]
    }
   ],
   "source": [
    "#check for duplicates\n",
    "print(contract.duplicated().sum())\n",
    "print(personal.duplicated().sum())\n",
    "print(internet.duplicated().sum())\n",
    "print(phone.duplicated().sum())"
   ]
  },
  {
   "cell_type": "code",
   "execution_count": 8,
   "metadata": {},
   "outputs": [
    {
     "data": {
      "text/plain": [
       "4513    2013-10-01\n",
       "4610    2013-10-01\n",
       "3439    2013-10-01\n",
       "975     2013-11-01\n",
       "3040    2013-11-01\n",
       "           ...    \n",
       "3331    2020-02-01\n",
       "6670    2020-02-01\n",
       "936     2020-02-01\n",
       "3826    2020-02-01\n",
       "6754    2020-02-01\n",
       "Name: BeginDate, Length: 7043, dtype: object"
      ]
     },
     "execution_count": 8,
     "metadata": {},
     "output_type": "execute_result"
    }
   ],
   "source": [
    "contract['BeginDate'].sort_values()"
   ]
  },
  {
   "cell_type": "code",
   "execution_count": 9,
   "metadata": {},
   "outputs": [
    {
     "data": {
      "text/plain": [
       "array(['No', '2019-12-01 00:00:00', '2019-11-01 00:00:00',\n",
       "       '2019-10-01 00:00:00', '2020-01-01 00:00:00'], dtype=object)"
      ]
     },
     "execution_count": 9,
     "metadata": {},
     "output_type": "execute_result"
    }
   ],
   "source": [
    "contract['EndDate'].unique()"
   ]
  },
  {
   "cell_type": "code",
   "execution_count": 10,
   "metadata": {},
   "outputs": [
    {
     "data": {
      "text/plain": [
       "73.4630129206304"
      ]
     },
     "execution_count": 10,
     "metadata": {},
     "output_type": "execute_result"
    }
   ],
   "source": [
    "# find percentage of how many customers have not churned\n",
    "len(contract[contract['EndDate'] == 'No']) / len(contract['EndDate']) * 100"
   ]
  },
  {
   "cell_type": "markdown",
   "metadata": {},
   "source": [
    "There are no missing values or duplicates in our datasets. 73% of the customers have not ended their service, so the classes of the target feature are unbalanced."
   ]
  },
  {
   "cell_type": "markdown",
   "metadata": {},
   "source": [
    "## Preprocessing\n",
    "\n",
    "1. Merge the datasets into one DataFrame.\n",
    "2. Change column names to lowercase with underscores.\n",
    "3. Change data types: begin_date to datetime, total_charge to float64.\n",
    "4. Convert yes/no columns to contain ones and zeros."
   ]
  },
  {
   "cell_type": "code",
   "execution_count": 11,
   "metadata": {},
   "outputs": [],
   "source": [
    "#merge the datasets on the customerID column\n",
    "data = contract.merge(personal, on='customerID', how='outer')\n",
    "data = data.merge(internet, on='customerID', how='outer')\n",
    "data = data.merge(phone, on='customerID', how='outer')"
   ]
  },
  {
   "cell_type": "code",
   "execution_count": 12,
   "metadata": {},
   "outputs": [
    {
     "name": "stdout",
     "output_type": "stream",
     "text": [
      "<class 'pandas.core.frame.DataFrame'>\n",
      "RangeIndex: 7043 entries, 0 to 7042\n",
      "Data columns (total 20 columns):\n",
      " #   Column            Non-Null Count  Dtype  \n",
      "---  ------            --------------  -----  \n",
      " 0   customerID        7043 non-null   object \n",
      " 1   BeginDate         7043 non-null   object \n",
      " 2   EndDate           7043 non-null   object \n",
      " 3   Type              7043 non-null   object \n",
      " 4   PaperlessBilling  7043 non-null   object \n",
      " 5   PaymentMethod     7043 non-null   object \n",
      " 6   MonthlyCharges    7043 non-null   float64\n",
      " 7   TotalCharges      7043 non-null   object \n",
      " 8   gender            7043 non-null   object \n",
      " 9   SeniorCitizen     7043 non-null   int64  \n",
      " 10  Partner           7043 non-null   object \n",
      " 11  Dependents        7043 non-null   object \n",
      " 12  InternetService   7043 non-null   object \n",
      " 13  OnlineSecurity    7043 non-null   object \n",
      " 14  OnlineBackup      7043 non-null   object \n",
      " 15  DeviceProtection  7043 non-null   object \n",
      " 16  TechSupport       7043 non-null   object \n",
      " 17  StreamingTV       7043 non-null   object \n",
      " 18  StreamingMovies   7043 non-null   object \n",
      " 19  MultipleLines     7043 non-null   object \n",
      "dtypes: float64(1), int64(1), object(18)\n",
      "memory usage: 1.1+ MB\n"
     ]
    }
   ],
   "source": [
    "#fill in missing values created from merging\n",
    "data = data.fillna('No')\n",
    "data.info()"
   ]
  },
  {
   "cell_type": "code",
   "execution_count": 13,
   "metadata": {},
   "outputs": [],
   "source": [
    "#change column names to lowercase with underscores\n",
    "def camel_to_snake(name):\n",
    "    # Handles acronyms like ID and TV properly\n",
    "    name = re.sub(r'(.)([A-Z][a-z]+)', r'\\1_\\2', name)\n",
    "    name = re.sub(r'([a-z0-9])([A-Z])', r'\\1_\\2', name)\n",
    "    return name.lower()\n",
    "\n",
    "data.columns = [camel_to_snake(col) for col in data.columns]"
   ]
  },
  {
   "cell_type": "code",
   "execution_count": 14,
   "metadata": {},
   "outputs": [
    {
     "data": {
      "text/plain": [
       "0   2019-05-01\n",
       "1   2019-05-01\n",
       "2   2019-09-01\n",
       "3   2018-12-01\n",
       "4   2019-09-01\n",
       "Name: begin_date, dtype: datetime64[ns]"
      ]
     },
     "execution_count": 14,
     "metadata": {},
     "output_type": "execute_result"
    }
   ],
   "source": [
    "#change begin_date columm to datetime data type\n",
    "data['begin_date'] = pd.to_datetime(data['begin_date'], format='%Y-%m-%d')\n",
    "data['begin_date'].head()"
   ]
  },
  {
   "cell_type": "code",
   "execution_count": 15,
   "metadata": {},
   "outputs": [],
   "source": [
    "#change total_charges to float64 data type\n",
    "data['total_charges'] = pd.to_numeric(data['total_charges'], errors='coerce')"
   ]
  },
  {
   "cell_type": "code",
   "execution_count": 16,
   "metadata": {},
   "outputs": [
    {
     "data": {
      "text/plain": [
       "11"
      ]
     },
     "execution_count": 16,
     "metadata": {},
     "output_type": "execute_result"
    }
   ],
   "source": [
    "data['total_charges'].isna().sum()"
   ]
  },
  {
   "cell_type": "code",
   "execution_count": 17,
   "metadata": {},
   "outputs": [],
   "source": [
    "#fill missing values with zeros\n",
    "data['total_charges'] = data['total_charges'].fillna(0)"
   ]
  },
  {
   "cell_type": "code",
   "execution_count": 18,
   "metadata": {},
   "outputs": [],
   "source": [
    "#convert yes and no values to 1 and 0\n",
    "cols_to_convert = ['paperless_billing', 'partner', 'dependents', 'online_security', 'online_backup', 'device_protection', 'tech_support', 'streaming_tv', 'streaming_movies', 'multiple_lines']\n",
    "\n",
    "data[cols_to_convert] = data[cols_to_convert].apply(lambda col: col.str.lower().map({'no': 0, 'yes': 1}))"
   ]
  },
  {
   "cell_type": "code",
   "execution_count": 19,
   "metadata": {},
   "outputs": [
    {
     "data": {
      "text/html": [
       "<div>\n",
       "<style scoped>\n",
       "    .dataframe tbody tr th:only-of-type {\n",
       "        vertical-align: middle;\n",
       "    }\n",
       "\n",
       "    .dataframe tbody tr th {\n",
       "        vertical-align: top;\n",
       "    }\n",
       "\n",
       "    .dataframe thead th {\n",
       "        text-align: right;\n",
       "    }\n",
       "</style>\n",
       "<table border=\"1\" class=\"dataframe\">\n",
       "  <thead>\n",
       "    <tr style=\"text-align: right;\">\n",
       "      <th></th>\n",
       "      <th>customer_id</th>\n",
       "      <th>begin_date</th>\n",
       "      <th>end_date</th>\n",
       "      <th>type</th>\n",
       "      <th>paperless_billing</th>\n",
       "      <th>payment_method</th>\n",
       "      <th>monthly_charges</th>\n",
       "      <th>total_charges</th>\n",
       "      <th>gender</th>\n",
       "      <th>senior_citizen</th>\n",
       "      <th>partner</th>\n",
       "      <th>dependents</th>\n",
       "      <th>internet_service</th>\n",
       "      <th>online_security</th>\n",
       "      <th>online_backup</th>\n",
       "      <th>device_protection</th>\n",
       "      <th>tech_support</th>\n",
       "      <th>streaming_tv</th>\n",
       "      <th>streaming_movies</th>\n",
       "      <th>multiple_lines</th>\n",
       "    </tr>\n",
       "  </thead>\n",
       "  <tbody>\n",
       "    <tr>\n",
       "      <th>0</th>\n",
       "      <td>0002-ORFBO</td>\n",
       "      <td>2019-05-01</td>\n",
       "      <td>No</td>\n",
       "      <td>One year</td>\n",
       "      <td>1</td>\n",
       "      <td>Mailed check</td>\n",
       "      <td>65.6</td>\n",
       "      <td>593.30</td>\n",
       "      <td>Female</td>\n",
       "      <td>0</td>\n",
       "      <td>1</td>\n",
       "      <td>1</td>\n",
       "      <td>DSL</td>\n",
       "      <td>0</td>\n",
       "      <td>1</td>\n",
       "      <td>0</td>\n",
       "      <td>1</td>\n",
       "      <td>1</td>\n",
       "      <td>0</td>\n",
       "      <td>0</td>\n",
       "    </tr>\n",
       "    <tr>\n",
       "      <th>1</th>\n",
       "      <td>0003-MKNFE</td>\n",
       "      <td>2019-05-01</td>\n",
       "      <td>No</td>\n",
       "      <td>Month-to-month</td>\n",
       "      <td>0</td>\n",
       "      <td>Mailed check</td>\n",
       "      <td>59.9</td>\n",
       "      <td>542.40</td>\n",
       "      <td>Male</td>\n",
       "      <td>0</td>\n",
       "      <td>0</td>\n",
       "      <td>0</td>\n",
       "      <td>DSL</td>\n",
       "      <td>0</td>\n",
       "      <td>0</td>\n",
       "      <td>0</td>\n",
       "      <td>0</td>\n",
       "      <td>0</td>\n",
       "      <td>1</td>\n",
       "      <td>1</td>\n",
       "    </tr>\n",
       "    <tr>\n",
       "      <th>2</th>\n",
       "      <td>0004-TLHLJ</td>\n",
       "      <td>2019-09-01</td>\n",
       "      <td>2020-01-01 00:00:00</td>\n",
       "      <td>Month-to-month</td>\n",
       "      <td>1</td>\n",
       "      <td>Electronic check</td>\n",
       "      <td>73.9</td>\n",
       "      <td>280.85</td>\n",
       "      <td>Male</td>\n",
       "      <td>0</td>\n",
       "      <td>0</td>\n",
       "      <td>0</td>\n",
       "      <td>Fiber optic</td>\n",
       "      <td>0</td>\n",
       "      <td>0</td>\n",
       "      <td>1</td>\n",
       "      <td>0</td>\n",
       "      <td>0</td>\n",
       "      <td>0</td>\n",
       "      <td>0</td>\n",
       "    </tr>\n",
       "    <tr>\n",
       "      <th>3</th>\n",
       "      <td>0011-IGKFF</td>\n",
       "      <td>2018-12-01</td>\n",
       "      <td>2020-01-01 00:00:00</td>\n",
       "      <td>Month-to-month</td>\n",
       "      <td>1</td>\n",
       "      <td>Electronic check</td>\n",
       "      <td>98.0</td>\n",
       "      <td>1237.85</td>\n",
       "      <td>Male</td>\n",
       "      <td>1</td>\n",
       "      <td>1</td>\n",
       "      <td>0</td>\n",
       "      <td>Fiber optic</td>\n",
       "      <td>0</td>\n",
       "      <td>1</td>\n",
       "      <td>1</td>\n",
       "      <td>0</td>\n",
       "      <td>1</td>\n",
       "      <td>1</td>\n",
       "      <td>0</td>\n",
       "    </tr>\n",
       "    <tr>\n",
       "      <th>4</th>\n",
       "      <td>0013-EXCHZ</td>\n",
       "      <td>2019-09-01</td>\n",
       "      <td>2019-12-01 00:00:00</td>\n",
       "      <td>Month-to-month</td>\n",
       "      <td>1</td>\n",
       "      <td>Mailed check</td>\n",
       "      <td>83.9</td>\n",
       "      <td>267.40</td>\n",
       "      <td>Female</td>\n",
       "      <td>1</td>\n",
       "      <td>1</td>\n",
       "      <td>0</td>\n",
       "      <td>Fiber optic</td>\n",
       "      <td>0</td>\n",
       "      <td>0</td>\n",
       "      <td>0</td>\n",
       "      <td>1</td>\n",
       "      <td>1</td>\n",
       "      <td>0</td>\n",
       "      <td>0</td>\n",
       "    </tr>\n",
       "  </tbody>\n",
       "</table>\n",
       "</div>"
      ],
      "text/plain": [
       "  customer_id begin_date             end_date            type  \\\n",
       "0  0002-ORFBO 2019-05-01                   No        One year   \n",
       "1  0003-MKNFE 2019-05-01                   No  Month-to-month   \n",
       "2  0004-TLHLJ 2019-09-01  2020-01-01 00:00:00  Month-to-month   \n",
       "3  0011-IGKFF 2018-12-01  2020-01-01 00:00:00  Month-to-month   \n",
       "4  0013-EXCHZ 2019-09-01  2019-12-01 00:00:00  Month-to-month   \n",
       "\n",
       "   paperless_billing    payment_method  monthly_charges  total_charges  \\\n",
       "0                  1      Mailed check             65.6         593.30   \n",
       "1                  0      Mailed check             59.9         542.40   \n",
       "2                  1  Electronic check             73.9         280.85   \n",
       "3                  1  Electronic check             98.0        1237.85   \n",
       "4                  1      Mailed check             83.9         267.40   \n",
       "\n",
       "   gender  senior_citizen  partner  dependents internet_service  \\\n",
       "0  Female               0        1           1              DSL   \n",
       "1    Male               0        0           0              DSL   \n",
       "2    Male               0        0           0      Fiber optic   \n",
       "3    Male               1        1           0      Fiber optic   \n",
       "4  Female               1        1           0      Fiber optic   \n",
       "\n",
       "   online_security  online_backup  device_protection  tech_support  \\\n",
       "0                0              1                  0             1   \n",
       "1                0              0                  0             0   \n",
       "2                0              0                  1             0   \n",
       "3                0              1                  1             0   \n",
       "4                0              0                  0             1   \n",
       "\n",
       "   streaming_tv  streaming_movies  multiple_lines  \n",
       "0             1                 0               0  \n",
       "1             0                 1               1  \n",
       "2             0                 0               0  \n",
       "3             1                 1               0  \n",
       "4             1                 0               0  "
      ]
     },
     "execution_count": 19,
     "metadata": {},
     "output_type": "execute_result"
    }
   ],
   "source": [
    "data.head()"
   ]
  },
  {
   "cell_type": "code",
   "execution_count": 20,
   "metadata": {},
   "outputs": [
    {
     "name": "stdout",
     "output_type": "stream",
     "text": [
      "<class 'pandas.core.frame.DataFrame'>\n",
      "RangeIndex: 7043 entries, 0 to 7042\n",
      "Data columns (total 20 columns):\n",
      " #   Column             Non-Null Count  Dtype         \n",
      "---  ------             --------------  -----         \n",
      " 0   customer_id        7043 non-null   object        \n",
      " 1   begin_date         7043 non-null   datetime64[ns]\n",
      " 2   end_date           7043 non-null   object        \n",
      " 3   type               7043 non-null   object        \n",
      " 4   paperless_billing  7043 non-null   int64         \n",
      " 5   payment_method     7043 non-null   object        \n",
      " 6   monthly_charges    7043 non-null   float64       \n",
      " 7   total_charges      7043 non-null   float64       \n",
      " 8   gender             7043 non-null   object        \n",
      " 9   senior_citizen     7043 non-null   int64         \n",
      " 10  partner            7043 non-null   int64         \n",
      " 11  dependents         7043 non-null   int64         \n",
      " 12  internet_service   7043 non-null   object        \n",
      " 13  online_security    7043 non-null   int64         \n",
      " 14  online_backup      7043 non-null   int64         \n",
      " 15  device_protection  7043 non-null   int64         \n",
      " 16  tech_support       7043 non-null   int64         \n",
      " 17  streaming_tv       7043 non-null   int64         \n",
      " 18  streaming_movies   7043 non-null   int64         \n",
      " 19  multiple_lines     7043 non-null   int64         \n",
      "dtypes: datetime64[ns](1), float64(2), int64(11), object(6)\n",
      "memory usage: 1.1+ MB\n"
     ]
    }
   ],
   "source": [
    "data.info()"
   ]
  },
  {
   "cell_type": "markdown",
   "metadata": {},
   "source": [
    "## Feature Engineering\n",
    "\n",
    "1. Apply One-Hot Encoding to remaining categorical columns.\n",
    "2. Extract features from the begin_date column.\n",
    "3. Transform end_date values to 0 for those who have not churned and 1 for those who have ended their service.\n",
    "4. Delete customer_id and begin_date columns."
   ]
  },
  {
   "cell_type": "code",
   "execution_count": 21,
   "metadata": {},
   "outputs": [],
   "source": [
    "#One-Hot Encoding\n",
    "ohe_cols = ['type', 'payment_method', 'gender', 'internet_service']\n",
    "\n",
    "dummies = pd.get_dummies(data[ohe_cols], drop_first=True)\n",
    "\n",
    "data = data.drop(columns=ohe_cols)\n",
    "data=pd.concat([data, dummies], axis=1)"
   ]
  },
  {
   "cell_type": "code",
   "execution_count": 22,
   "metadata": {},
   "outputs": [
    {
     "name": "stdout",
     "output_type": "stream",
     "text": [
      "<class 'pandas.core.frame.DataFrame'>\n",
      "RangeIndex: 7043 entries, 0 to 7042\n",
      "Data columns (total 24 columns):\n",
      " #   Column                                  Non-Null Count  Dtype         \n",
      "---  ------                                  --------------  -----         \n",
      " 0   customer_id                             7043 non-null   object        \n",
      " 1   begin_date                              7043 non-null   datetime64[ns]\n",
      " 2   end_date                                7043 non-null   object        \n",
      " 3   paperless_billing                       7043 non-null   int64         \n",
      " 4   monthly_charges                         7043 non-null   float64       \n",
      " 5   total_charges                           7043 non-null   float64       \n",
      " 6   senior_citizen                          7043 non-null   int64         \n",
      " 7   partner                                 7043 non-null   int64         \n",
      " 8   dependents                              7043 non-null   int64         \n",
      " 9   online_security                         7043 non-null   int64         \n",
      " 10  online_backup                           7043 non-null   int64         \n",
      " 11  device_protection                       7043 non-null   int64         \n",
      " 12  tech_support                            7043 non-null   int64         \n",
      " 13  streaming_tv                            7043 non-null   int64         \n",
      " 14  streaming_movies                        7043 non-null   int64         \n",
      " 15  multiple_lines                          7043 non-null   int64         \n",
      " 16  type_One year                           7043 non-null   bool          \n",
      " 17  type_Two year                           7043 non-null   bool          \n",
      " 18  payment_method_Credit card (automatic)  7043 non-null   bool          \n",
      " 19  payment_method_Electronic check         7043 non-null   bool          \n",
      " 20  payment_method_Mailed check             7043 non-null   bool          \n",
      " 21  gender_Male                             7043 non-null   bool          \n",
      " 22  internet_service_Fiber optic            7043 non-null   bool          \n",
      " 23  internet_service_No                     7043 non-null   bool          \n",
      "dtypes: bool(8), datetime64[ns](1), float64(2), int64(11), object(2)\n",
      "memory usage: 935.5+ KB\n"
     ]
    }
   ],
   "source": [
    "data.info()"
   ]
  },
  {
   "cell_type": "code",
   "execution_count": 23,
   "metadata": {},
   "outputs": [
    {
     "data": {
      "text/plain": [
       "0       0\n",
       "1       0\n",
       "2       1\n",
       "3       1\n",
       "4       1\n",
       "       ..\n",
       "7038    0\n",
       "7039    1\n",
       "7040    0\n",
       "7041    0\n",
       "7042    0\n",
       "Name: end_date, Length: 7043, dtype: int64"
      ]
     },
     "execution_count": 23,
     "metadata": {},
     "output_type": "execute_result"
    }
   ],
   "source": [
    "data['end_date'] = data['end_date'].apply(lambda x: 0 if str(x).lower() == 'no' else 1)\n",
    "data['end_date']"
   ]
  },
  {
   "cell_type": "code",
   "execution_count": 24,
   "metadata": {},
   "outputs": [],
   "source": [
    "#extract features from the begin_date column\n",
    "data['begin_year'] = data['begin_date'].dt.year\n",
    "data['begin_month'] = data['begin_date'].dt.month\n",
    "data['begin_day'] = data['begin_date'].dt.day"
   ]
  },
  {
   "cell_type": "code",
   "execution_count": 25,
   "metadata": {},
   "outputs": [
    {
     "name": "stdout",
     "output_type": "stream",
     "text": [
      "<class 'pandas.core.frame.DataFrame'>\n",
      "RangeIndex: 7043 entries, 0 to 7042\n",
      "Data columns (total 25 columns):\n",
      " #   Column                                  Non-Null Count  Dtype  \n",
      "---  ------                                  --------------  -----  \n",
      " 0   end_date                                7043 non-null   int64  \n",
      " 1   paperless_billing                       7043 non-null   int64  \n",
      " 2   monthly_charges                         7043 non-null   float64\n",
      " 3   total_charges                           7043 non-null   float64\n",
      " 4   senior_citizen                          7043 non-null   int64  \n",
      " 5   partner                                 7043 non-null   int64  \n",
      " 6   dependents                              7043 non-null   int64  \n",
      " 7   online_security                         7043 non-null   int64  \n",
      " 8   online_backup                           7043 non-null   int64  \n",
      " 9   device_protection                       7043 non-null   int64  \n",
      " 10  tech_support                            7043 non-null   int64  \n",
      " 11  streaming_tv                            7043 non-null   int64  \n",
      " 12  streaming_movies                        7043 non-null   int64  \n",
      " 13  multiple_lines                          7043 non-null   int64  \n",
      " 14  type_One year                           7043 non-null   bool   \n",
      " 15  type_Two year                           7043 non-null   bool   \n",
      " 16  payment_method_Credit card (automatic)  7043 non-null   bool   \n",
      " 17  payment_method_Electronic check         7043 non-null   bool   \n",
      " 18  payment_method_Mailed check             7043 non-null   bool   \n",
      " 19  gender_Male                             7043 non-null   bool   \n",
      " 20  internet_service_Fiber optic            7043 non-null   bool   \n",
      " 21  internet_service_No                     7043 non-null   bool   \n",
      " 22  begin_year                              7043 non-null   int32  \n",
      " 23  begin_month                             7043 non-null   int32  \n",
      " 24  begin_day                               7043 non-null   int32  \n",
      "dtypes: bool(8), float64(2), int32(3), int64(12)\n",
      "memory usage: 908.0 KB\n"
     ]
    }
   ],
   "source": [
    "#remove columns not useful for the models\n",
    "data = data.drop(columns=['customer_id', 'begin_date'])\n",
    "data.info()"
   ]
  },
  {
   "cell_type": "markdown",
   "metadata": {},
   "source": [
    "## Split Data into Training and Test Sets\n",
    "\n",
    "1. Separate features from the target\n",
    "2. Use train_test_split to split 25% of the data into a test set"
   ]
  },
  {
   "cell_type": "code",
   "execution_count": 26,
   "metadata": {},
   "outputs": [],
   "source": [
    "#separate features and target\n",
    "X = data.drop(columns='end_date')\n",
    "y = data['end_date']"
   ]
  },
  {
   "cell_type": "code",
   "execution_count": 27,
   "metadata": {},
   "outputs": [],
   "source": [
    "#split into training and test sets\n",
    "X_train, X_test, y_train, y_test = train_test_split(X, y, test_size=0.25, random_state=42)"
   ]
  },
  {
   "cell_type": "markdown",
   "metadata": {},
   "source": [
    "## Balance Classes\n",
    "\n",
    "1. The target classes are imbalanced, so we will upsample the minority class to even out the data.\n",
    "2. Scale the data using StandardScaler()"
   ]
  },
  {
   "cell_type": "code",
   "execution_count": 28,
   "metadata": {},
   "outputs": [
    {
     "name": "stdout",
     "output_type": "stream",
     "text": [
      "Number of observations for customers who have not churned: 3873\n",
      "Number of observations for customers who have churned: 1409\n"
     ]
    }
   ],
   "source": [
    "#combine X and y for upsampling\n",
    "train_data = pd.concat([X_train, y_train], axis=1)\n",
    "\n",
    "#split classes\n",
    "majority = train_data[train_data['end_date'] == 0]\n",
    "minority = train_data[train_data['end_date'] == 1]\n",
    "\n",
    "print(\"Number of observations for customers who have not churned:\", majority.shape[0])\n",
    "print(\"Number of observations for customers who have churned:\", minority.shape[0])"
   ]
  },
  {
   "cell_type": "code",
   "execution_count": 29,
   "metadata": {},
   "outputs": [
    {
     "data": {
      "text/plain": [
       "(7746, 25)"
      ]
     },
     "execution_count": 29,
     "metadata": {},
     "output_type": "execute_result"
    }
   ],
   "source": [
    "#upsample minority class\n",
    "minority_upsampled = resample(minority, replace=True, n_samples=len(majority), random_state=42)\n",
    "\n",
    "#combine classes and shuffle\n",
    "upsampled = pd.concat([majority, minority_upsampled])\n",
    "upsampled = shuffle(upsampled, random_state=42)\n",
    "upsampled.shape"
   ]
  },
  {
   "cell_type": "code",
   "execution_count": 30,
   "metadata": {},
   "outputs": [],
   "source": [
    "#separate target and features\n",
    "X_train_upsampled = upsampled.drop(columns='end_date', axis=1)\n",
    "y_train_upsampled = upsampled['end_date']"
   ]
  },
  {
   "cell_type": "code",
   "execution_count": 31,
   "metadata": {},
   "outputs": [],
   "source": [
    "#scale the data\n",
    "scaler = StandardScaler()\n",
    "X_train_scaled = scaler.fit_transform(X_train_upsampled)\n",
    "X_test_scaled = scaler.transform(X_test)"
   ]
  },
  {
   "cell_type": "markdown",
   "metadata": {},
   "source": [
    "## Model Training\n",
    "\n",
    "1. Train Logistic Regression, XGBoost, LightGBM, and CatBoost models.\n",
    "2. Collect the evaluation metrics of each model."
   ]
  },
  {
   "cell_type": "code",
   "execution_count": 32,
   "metadata": {},
   "outputs": [
    {
     "name": "stdout",
     "output_type": "stream",
     "text": [
      "ROC AUC score for base model: 0.8380443137385958\n"
     ]
    }
   ],
   "source": [
    "#initialize a Logistic Regression model as a baseline model\n",
    "base_model = LogisticRegression()\n",
    "base_model.fit(X_train_scaled, y_train_upsampled)\n",
    "\n",
    "y_proba = base_model.predict_proba(X_test_scaled)[:, 1]\n",
    "base_roc_auc = roc_auc_score(y_test, y_proba)\n",
    "print(f'ROC AUC score for base model:', base_roc_auc)"
   ]
  },
  {
   "cell_type": "code",
   "execution_count": 33,
   "metadata": {},
   "outputs": [],
   "source": [
    "#collect evaluation metrics\n",
    "model_metrics = []\n",
    "\n",
    "y_proba = base_model.predict_proba(X_test_scaled)[:, 1]\n",
    "y_pred = base_model.predict(X_test_scaled)\n",
    "fpr_base, tpr_base, _ = roc_curve(y_test, y_proba)\n",
    "\n",
    "model_metrics.append({\n",
    "    'Model': 'Logistic Regression',\n",
    "    'ROC AUC': base_roc_auc,\n",
    "    'Accuracy': accuracy_score(y_test, y_pred),\n",
    "    'FPR': fpr_base,\n",
    "    'TPR': tpr_base\n",
    "})"
   ]
  },
  {
   "cell_type": "code",
   "execution_count": 34,
   "metadata": {
    "scrolled": true
   },
   "outputs": [
    {
     "name": "stdout",
     "output_type": "stream",
     "text": [
      "Fitting 3 folds for each of 30 candidates, totalling 90 fits\n"
     ]
    },
    {
     "name": "stderr",
     "output_type": "stream",
     "text": [
      "c:\\Users\\susan\\anaconda3\\Lib\\site-packages\\xgboost\\training.py:183: UserWarning: [13:53:15] WARNING: C:\\actions-runner\\_work\\xgboost\\xgboost\\src\\learner.cc:738: \n",
      "Parameters: { \"use_label_encoder\" } are not used.\n",
      "\n",
      "  bst.update(dtrain, iteration=i, fobj=obj)\n"
     ]
    },
    {
     "name": "stdout",
     "output_type": "stream",
     "text": [
      "Best XGBoost parameters: {'n_estimators': 200, 'max_depth': 10, 'learning_rate': 0.2}\n",
      "XGBoost ROC AUC score: 0.9865887153370481\n"
     ]
    }
   ],
   "source": [
    "#XGBoost Model\n",
    "#define parameter distribution\n",
    "param_dist = {\n",
    "    'n_estimators': [100, 200, 300],\n",
    "    'max_depth': [3, 5, 7, 10],\n",
    "    'learning_rate': [0.01, 0.05, 0.1, 0.2],\n",
    "}\n",
    "\n",
    "#initialize model\n",
    "xgb_model = XGBClassifier(use_label_encoder=False, eval_metric='logloss', random_state=42)\n",
    "\n",
    "#tune hyperparameters\n",
    "random_search = RandomizedSearchCV(\n",
    "    estimator=xgb_model,\n",
    "    param_distributions=param_dist,\n",
    "    scoring='roc_auc',\n",
    "    n_iter=30,\n",
    "    cv=3,\n",
    "    verbose=1,\n",
    "    random_state=42,\n",
    "    n_jobs=-1\n",
    ")\n",
    "\n",
    "random_search.fit(X_train_scaled, y_train_upsampled)\n",
    "best_xgb_model = random_search.best_estimator_\n",
    "best_xgb_params = random_search.best_params_\n",
    "\n",
    "print(\"Best XGBoost parameters:\", best_xgb_params)\n",
    "print(\"XGBoost ROC AUC score:\", random_search.best_score_)"
   ]
  },
  {
   "cell_type": "code",
   "execution_count": 35,
   "metadata": {},
   "outputs": [],
   "source": [
    "#collect XGBoost metrics\n",
    "\n",
    "y_proba_xgb = best_xgb_model.predict_proba(X_test_scaled)[:, 1]\n",
    "y_pred_xgb = best_xgb_model.predict(X_test_scaled)\n",
    "fpr_xgb, tpr_xgb, _ = roc_curve(y_test, y_proba_xgb)\n",
    "\n",
    "model_metrics.append({\n",
    "    'Model': 'XGBoost',\n",
    "    'ROC AUC': roc_auc_score(y_test, y_proba_xgb),\n",
    "    'Accuracy': accuracy_score(y_test, y_pred_xgb),\n",
    "    'FPR': fpr_xgb,\n",
    "    'TPR': tpr_xgb\n",
    "})"
   ]
  },
  {
   "cell_type": "code",
   "execution_count": 36,
   "metadata": {},
   "outputs": [
    {
     "name": "stdout",
     "output_type": "stream",
     "text": [
      "Fitting 3 folds for each of 30 candidates, totalling 90 fits\n",
      "[LightGBM] [Info] Number of positive: 3873, number of negative: 3873\n",
      "[LightGBM] [Info] Auto-choosing row-wise multi-threading, the overhead of testing was 0.001210 seconds.\n",
      "You can set `force_row_wise=true` to remove the overhead.\n",
      "And if memory is not enough, you can set `force_col_wise=true`.\n",
      "[LightGBM] [Info] Total Bins 589\n",
      "[LightGBM] [Info] Number of data points in the train set: 7746, number of used features: 23\n",
      "[LightGBM] [Info] [binary:BoostFromScore]: pavg=0.500000 -> initscore=0.000000\n",
      "Best LightGBM parameters: {'num_leaves': 63, 'n_estimators': 200, 'max_depth': -1, 'learning_rate': 0.2}\n",
      "LightGBM ROC AUC score: 0.9888522958702556\n"
     ]
    }
   ],
   "source": [
    "#LightGBM Model\n",
    "lgb_params = {\n",
    "    'n_estimators': [100, 200, 300],\n",
    "    'learning_rate': [0.01, 0.05, 0.1, 0.2],\n",
    "    'num_leaves': [15, 31, 63],\n",
    "    'max_depth': [-1, 5, 10, 20],\n",
    "}\n",
    "\n",
    "light_model = lgb.LGBMClassifier(random_state=42)\n",
    "\n",
    "lgb_search = RandomizedSearchCV(\n",
    "    estimator=light_model,\n",
    "    param_distributions=lgb_params,\n",
    "    scoring='roc_auc',\n",
    "    n_iter=30,\n",
    "    cv=3,\n",
    "    verbose=1,\n",
    "    random_state=42,\n",
    "    n_jobs=-1\n",
    ")\n",
    "\n",
    "lgb_search.fit(X_train_scaled, y_train_upsampled)\n",
    "\n",
    "best_light_model = lgb_search.best_estimator_\n",
    "best_light_params = lgb_search.best_params_\n",
    "\n",
    "print(\"Best LightGBM parameters:\", best_light_params)\n",
    "print(\"LightGBM ROC AUC score:\", lgb_search.best_score_)"
   ]
  },
  {
   "cell_type": "code",
   "execution_count": 37,
   "metadata": {},
   "outputs": [],
   "source": [
    "#collect LightGBM metrics\n",
    "\n",
    "y_proba_light = best_light_model.predict_proba(X_test_scaled)[:, 1]\n",
    "y_pred_light = best_light_model.predict(X_test_scaled)\n",
    "fpr_light, tpr_light, _ = roc_curve(y_test, y_proba_light)\n",
    "\n",
    "model_metrics.append({\n",
    "    'Model': 'LightGBM',\n",
    "    'ROC AUC': roc_auc_score(y_test, y_proba_light),\n",
    "    'Accuracy': accuracy_score(y_test, y_pred_light),\n",
    "    'FPR': fpr_light,\n",
    "    'TPR': tpr_light\n",
    "})"
   ]
  },
  {
   "cell_type": "code",
   "execution_count": 38,
   "metadata": {},
   "outputs": [
    {
     "name": "stdout",
     "output_type": "stream",
     "text": [
      "Fitting 3 folds for each of 30 candidates, totalling 90 fits\n",
      "Best CatBoost parameters: {'random_strength': 1, 'learning_rate': 0.1, 'l2_leaf_reg': 5, 'iterations': 300, 'depth': 10, 'border_count': 64, 'bagging_temperature': 2}\n",
      "CatBoost ROC AUC score: 0.9838155391863631\n"
     ]
    }
   ],
   "source": [
    "#CatBoost Model\n",
    "\n",
    "cat_params = {\n",
    "    'iterations': [100, 200, 300],\n",
    "    'learning_rate': [0.01, 0.05, 0.1],\n",
    "    'depth': [4, 6, 8, 10],\n",
    "    'l2_leaf_reg': [1, 3, 5, 7],\n",
    "    'border_count': [32, 64, 128],\n",
    "    'bagging_temperature': [0, 1, 2],\n",
    "    'random_strength': [1, 5, 10]\n",
    "}\n",
    "\n",
    "cat_model = CatBoostClassifier(verbose=0, random_state=42, eval_metric='AUC')\n",
    "\n",
    "cat_search = RandomizedSearchCV(\n",
    "    estimator=cat_model,\n",
    "    param_distributions=cat_params,\n",
    "    scoring='roc_auc',\n",
    "    n_iter=30,\n",
    "    cv=3,\n",
    "    verbose=1,\n",
    "    random_state=42,\n",
    "    n_jobs=-1\n",
    ")\n",
    "\n",
    "cat_search.fit(X_train_scaled, y_train_upsampled)\n",
    "\n",
    "best_cat_model = cat_search.best_estimator_\n",
    "best_cat_params = cat_search.best_params_\n",
    "\n",
    "print(\"Best CatBoost parameters:\", best_cat_params)\n",
    "print(\"CatBoost ROC AUC score:\", cat_search.best_score_)"
   ]
  },
  {
   "cell_type": "code",
   "execution_count": 39,
   "metadata": {},
   "outputs": [],
   "source": [
    "#collect CatBoost metrics\n",
    "\n",
    "y_proba_cat = best_cat_model.predict_proba(X_test_scaled)[:, 1]\n",
    "y_pred_cat = best_cat_model.predict(X_test_scaled)\n",
    "fpr_cat, tpr_cat, _ = roc_curve(y_test, y_proba_cat)\n",
    "\n",
    "model_metrics.append({\n",
    "    'Model': 'CatBoost',\n",
    "    'ROC AUC': roc_auc_score(y_test, y_proba_cat),\n",
    "    'Accuracy': accuracy_score(y_test, y_pred_cat),\n",
    "    'FPR': fpr_cat,\n",
    "    'TPR': tpr_cat\n",
    "})"
   ]
  },
  {
   "cell_type": "markdown",
   "metadata": {},
   "source": [
    "## Model Testing Results\n",
    "\n",
    "1. Create a table summarizing the ROC AUC and Accuracy scores of each model.\n",
    "2. Plot the ROC curves of each model."
   ]
  },
  {
   "cell_type": "code",
   "execution_count": 40,
   "metadata": {},
   "outputs": [
    {
     "name": "stdout",
     "output_type": "stream",
     "text": [
      "                 Model   ROC AUC  Accuracy\n",
      "2             LightGBM  0.914958  0.884157\n",
      "1              XGBoost  0.911374  0.883589\n",
      "3             CatBoost  0.901156  0.865417\n",
      "0  Logistic Regression  0.838044  0.735945\n"
     ]
    }
   ],
   "source": [
    "#create a summary table\n",
    "summary = pd.DataFrame(model_metrics)[['Model', 'ROC AUC', 'Accuracy']]\n",
    "summary.sort_values(by='ROC AUC', ascending=False, inplace=True)\n",
    "print(summary)"
   ]
  },
  {
   "cell_type": "code",
   "execution_count": 41,
   "metadata": {
    "scrolled": true
   },
   "outputs": [
    {
     "data": {
      "image/png": "[encoded data removed]",
      "text/plain": [
       "<Figure size 1000x700 with 1 Axes>"
      ]
     },
     "metadata": {},
     "output_type": "display_data"
    }
   ],
   "source": [
    "#plot ROC Curves\n",
    "plt.figure(figsize=(10, 7))\n",
    "\n",
    "for entry in model_metrics:\n",
    "    plt.plot(entry['FPR'], entry['TPR'], label=f\"{entry['Model']} (AUC = {entry['ROC AUC']:.3f})\")\n",
    "    \n",
    "plt.plot([0, 1], [0, 1], 'k--', label='Random Guess')\n",
    "plt.xlabel('False Positive Rate')\n",
    "plt.ylabel('True Positive Rate')\n",
    "plt.title('ROC Curve Comparison')\n",
    "plt.legend(loc='lower right')\n",
    "plt.grid(True)\n",
    "plt.tight_layout()\n",
    "plt.show()"
   ]
  },
  {
   "cell_type": "markdown",
   "metadata": {},
   "source": [
    "All of the models performed very well. The Logistic Regression had a ROC AUC score of 0.838, and all of the other models were quite a bit higher. The LightGBM and XGBoost performed the best and had minimal differences in the ROC AUC and accuracy scores, but LightGBM did slightly outperform the XGBoost. This is the model we recommend Interconnect use to predict the churn of their customers."
   ]
  },
  {
   "cell_type": "markdown",
   "metadata": {},
   "source": [
    "## Conclusion\n",
    "\n",
    "The telecom company Interconnect would like to forecast the churn of their clients. We were provided with data from their customers that included contract, personal, internet, and phone information.\n",
    "\n",
    "**Initial analysis:** We performed an initial analysis of the data and found that we had no missing values, but there was an imbalance of the classes where 73% of the observations were still active clients.\n",
    "\n",
    "**Data Preprocessing:** We cleaned the column names to be a uniform lowercase with underscores. Then, we changed the datatypes of the begin_date column to datetime and the total_charge column to float64. We also converted the columns with yes and no values to contain 1 and 0 values.\n",
    "\n",
    "**Feature Engineering:** We used One-Hot Encoding on the remaining categorical columns. Then, we extracted features from the begin_date column. We deleted the customer_id and begin_date columns, as they would not be useful in our models.\n",
    "\n",
    "**Train and Test Sets:** We separated our features and our target and then used train_test_split to split the data into training and test sets.\n",
    "\n",
    "**Balance Classes:** Because the classes in our target were imbalanced, we upsampled the minority class in our training set to even them out. Then we used StandardScaler to scale the features.\n",
    "\n",
    "**Model Training:** We trained Logistic Regression, XGBoost, LightGBM, and CatBoost models. Then, we tested and collected the evaluation metrics from each model. We were interested in the ROC AUC score and the accuracy scores.\n",
    "\n",
    "**Results:** We found that all of the models performed very well. The LightGBM and XGBoost both had the highest ROC AUC and accuracy scores, but LightGBM slightly outperformed XGBoost. Therefore, we recommend that Interconnect use the LightGBM model to forecast the churn of their clients.\n"
   ]
  }
 ],
 "metadata": {
  "ExecuteTimeLog": [
   {
    "duration": 2179,
    "start_time": "2025-03-31T15:59:35.073Z"
   },
   {
    "duration": 81,
    "start_time": "2025-03-31T15:59:47.062Z"
   },
   {
    "duration": 11,
    "start_time": "2025-03-31T16:04:57.881Z"
   },
   {
    "duration": 9,
    "start_time": "2025-03-31T16:05:13.954Z"
   },
   {
    "duration": 10,
    "start_time": "2025-03-31T16:05:23.660Z"
   },
   {
    "duration": 7,
    "start_time": "2025-03-31T16:05:32.923Z"
   },
   {
    "duration": 15,
    "start_time": "2025-03-31T16:05:46.629Z"
   },
   {
    "duration": 8,
    "start_time": "2025-03-31T16:05:55.683Z"
   },
   {
    "duration": 4,
    "start_time": "2025-03-31T16:06:04.637Z"
   },
   {
    "duration": 8,
    "start_time": "2025-03-31T16:06:20.400Z"
   },
   {
    "duration": 7,
    "start_time": "2025-03-31T16:13:34.115Z"
   },
   {
    "duration": 12,
    "start_time": "2025-03-31T16:13:51.037Z"
   },
   {
    "duration": 10,
    "start_time": "2025-03-31T16:14:27.393Z"
   },
   {
    "duration": 746,
    "start_time": "2025-03-31T16:17:06.090Z"
   },
   {
    "duration": 68,
    "start_time": "2025-03-31T16:17:27.840Z"
   },
   {
    "duration": 37,
    "start_time": "2025-03-31T16:20:33.136Z"
   },
   {
    "duration": 5,
    "start_time": "2025-03-31T16:21:19.488Z"
   },
   {
    "duration": 5,
    "start_time": "2025-03-31T16:21:47.943Z"
   },
   {
    "duration": 5,
    "start_time": "2025-03-31T16:22:48.280Z"
   },
   {
    "duration": 4,
    "start_time": "2025-03-31T16:23:02.050Z"
   },
   {
    "duration": 5,
    "start_time": "2025-03-31T16:25:40.661Z"
   },
   {
    "duration": 10,
    "start_time": "2025-03-31T16:26:06.971Z"
   },
   {
    "duration": 4,
    "start_time": "2025-03-31T16:26:47.163Z"
   },
   {
    "duration": 5,
    "start_time": "2025-03-31T16:27:37.294Z"
   },
   {
    "duration": 3,
    "start_time": "2025-03-31T16:27:58.358Z"
   },
   {
    "duration": 9,
    "start_time": "2025-03-31T16:28:18.294Z"
   },
   {
    "duration": 161,
    "start_time": "2025-03-31T16:33:18.083Z"
   },
   {
    "duration": 92,
    "start_time": "2025-03-31T16:34:13.961Z"
   },
   {
    "duration": 5,
    "start_time": "2025-03-31T16:36:01.018Z"
   },
   {
    "duration": 8,
    "start_time": "2025-03-31T16:36:16.338Z"
   },
   {
    "duration": 5,
    "start_time": "2025-03-31T16:36:52.831Z"
   },
   {
    "duration": 4,
    "start_time": "2025-03-31T16:36:55.161Z"
   },
   {
    "duration": 5,
    "start_time": "2025-03-31T16:43:07.729Z"
   },
   {
    "duration": 4,
    "start_time": "2025-03-31T16:43:10.735Z"
   },
   {
    "duration": 5,
    "start_time": "2025-03-31T16:43:30.862Z"
   },
   {
    "duration": 4,
    "start_time": "2025-03-31T16:43:34.097Z"
   },
   {
    "duration": 5,
    "start_time": "2025-03-31T16:43:53.708Z"
   },
   {
    "duration": 5,
    "start_time": "2025-03-31T16:43:55.769Z"
   },
   {
    "duration": 5,
    "start_time": "2025-03-31T16:44:54.200Z"
   },
   {
    "duration": 5,
    "start_time": "2025-03-31T16:44:56.735Z"
   },
   {
    "duration": 6,
    "start_time": "2025-03-31T16:49:16.431Z"
   },
   {
    "duration": 4,
    "start_time": "2025-03-31T16:49:20.908Z"
   },
   {
    "duration": 5,
    "start_time": "2025-03-31T16:49:37.435Z"
   },
   {
    "duration": 4,
    "start_time": "2025-03-31T16:49:49.111Z"
   },
   {
    "duration": 4,
    "start_time": "2025-03-31T16:49:57.635Z"
   },
   {
    "duration": 6,
    "start_time": "2025-03-31T16:50:10.650Z"
   },
   {
    "duration": 5,
    "start_time": "2025-03-31T16:50:11.917Z"
   },
   {
    "duration": 15,
    "start_time": "2025-03-31T16:51:30.596Z"
   },
   {
    "duration": 5,
    "start_time": "2025-03-31T16:51:43.894Z"
   },
   {
    "duration": 17,
    "start_time": "2025-03-31T16:51:46.148Z"
   },
   {
    "duration": 130,
    "start_time": "2025-03-31T16:56:50.110Z"
   },
   {
    "duration": 432,
    "start_time": "2025-03-31T16:57:07.250Z"
   },
   {
    "duration": 70,
    "start_time": "2025-03-31T16:57:07.684Z"
   },
   {
    "duration": 10,
    "start_time": "2025-03-31T16:57:07.755Z"
   },
   {
    "duration": 9,
    "start_time": "2025-03-31T16:57:07.767Z"
   },
   {
    "duration": 9,
    "start_time": "2025-03-31T16:57:07.778Z"
   },
   {
    "duration": 8,
    "start_time": "2025-03-31T16:57:07.788Z"
   },
   {
    "duration": 35,
    "start_time": "2025-03-31T16:57:07.797Z"
   },
   {
    "duration": 8,
    "start_time": "2025-03-31T16:57:07.834Z"
   },
   {
    "duration": 3,
    "start_time": "2025-03-31T16:57:07.844Z"
   },
   {
    "duration": 4,
    "start_time": "2025-03-31T16:57:07.850Z"
   },
   {
    "duration": 7,
    "start_time": "2025-03-31T16:57:07.855Z"
   },
   {
    "duration": 4,
    "start_time": "2025-03-31T16:57:07.864Z"
   },
   {
    "duration": 4,
    "start_time": "2025-03-31T16:57:07.870Z"
   },
   {
    "duration": 2,
    "start_time": "2025-03-31T16:57:07.876Z"
   },
   {
    "duration": 9,
    "start_time": "2025-03-31T16:57:07.880Z"
   },
   {
    "duration": 455,
    "start_time": "2025-03-31T16:57:07.932Z"
   },
   {
    "duration": 0,
    "start_time": "2025-03-31T16:57:08.388Z"
   },
   {
    "duration": 0,
    "start_time": "2025-03-31T16:57:08.389Z"
   },
   {
    "duration": 5,
    "start_time": "2025-03-31T16:57:19.848Z"
   },
   {
    "duration": 15,
    "start_time": "2025-03-31T16:57:24.803Z"
   },
   {
    "duration": 18,
    "start_time": "2025-03-31T16:57:37.572Z"
   },
   {
    "duration": 22,
    "start_time": "2025-03-31T16:58:15.902Z"
   },
   {
    "duration": 33,
    "start_time": "2025-03-31T17:05:26.386Z"
   },
   {
    "duration": 15,
    "start_time": "2025-03-31T17:05:30.894Z"
   },
   {
    "duration": 11,
    "start_time": "2025-03-31T17:06:17.603Z"
   },
   {
    "duration": 402,
    "start_time": "2025-03-31T17:07:15.190Z"
   },
   {
    "duration": 72,
    "start_time": "2025-03-31T17:07:15.594Z"
   },
   {
    "duration": 10,
    "start_time": "2025-03-31T17:07:15.668Z"
   },
   {
    "duration": 9,
    "start_time": "2025-03-31T17:07:15.679Z"
   },
   {
    "duration": 9,
    "start_time": "2025-03-31T17:07:15.690Z"
   },
   {
    "duration": 7,
    "start_time": "2025-03-31T17:07:15.701Z"
   },
   {
    "duration": 30,
    "start_time": "2025-03-31T17:07:15.710Z"
   },
   {
    "duration": 8,
    "start_time": "2025-03-31T17:07:15.742Z"
   },
   {
    "duration": 4,
    "start_time": "2025-03-31T17:07:15.752Z"
   },
   {
    "duration": 5,
    "start_time": "2025-03-31T17:07:15.758Z"
   },
   {
    "duration": 7,
    "start_time": "2025-03-31T17:07:15.764Z"
   },
   {
    "duration": 4,
    "start_time": "2025-03-31T17:07:15.772Z"
   },
   {
    "duration": 4,
    "start_time": "2025-03-31T17:07:15.778Z"
   },
   {
    "duration": 2,
    "start_time": "2025-03-31T17:07:15.785Z"
   },
   {
    "duration": 54,
    "start_time": "2025-03-31T17:07:15.789Z"
   },
   {
    "duration": 7,
    "start_time": "2025-03-31T17:07:15.844Z"
   },
   {
    "duration": 14,
    "start_time": "2025-03-31T17:07:15.853Z"
   },
   {
    "duration": 18,
    "start_time": "2025-03-31T17:07:15.868Z"
   },
   {
    "duration": 45,
    "start_time": "2025-03-31T17:07:15.888Z"
   },
   {
    "duration": 16,
    "start_time": "2025-03-31T17:07:15.935Z"
   },
   {
    "duration": 32,
    "start_time": "2025-03-31T17:07:15.952Z"
   },
   {
    "duration": 14,
    "start_time": "2025-03-31T17:07:15.986Z"
   },
   {
    "duration": 31,
    "start_time": "2025-03-31T17:07:16.001Z"
   },
   {
    "duration": 398,
    "start_time": "2025-03-31T17:09:53.319Z"
   },
   {
    "duration": 62,
    "start_time": "2025-03-31T17:09:53.719Z"
   },
   {
    "duration": 10,
    "start_time": "2025-03-31T17:09:53.783Z"
   },
   {
    "duration": 8,
    "start_time": "2025-03-31T17:09:53.795Z"
   },
   {
    "duration": 10,
    "start_time": "2025-03-31T17:09:53.805Z"
   },
   {
    "duration": 21,
    "start_time": "2025-03-31T17:09:53.816Z"
   },
   {
    "duration": 14,
    "start_time": "2025-03-31T17:09:53.839Z"
   },
   {
    "duration": 8,
    "start_time": "2025-03-31T17:09:53.854Z"
   },
   {
    "duration": 3,
    "start_time": "2025-03-31T17:09:53.864Z"
   },
   {
    "duration": 5,
    "start_time": "2025-03-31T17:09:53.871Z"
   },
   {
    "duration": 6,
    "start_time": "2025-03-31T17:09:53.877Z"
   },
   {
    "duration": 5,
    "start_time": "2025-03-31T17:09:53.885Z"
   },
   {
    "duration": 44,
    "start_time": "2025-03-31T17:09:53.891Z"
   },
   {
    "duration": 3,
    "start_time": "2025-03-31T17:09:53.937Z"
   },
   {
    "duration": 10,
    "start_time": "2025-03-31T17:09:53.941Z"
   },
   {
    "duration": 5,
    "start_time": "2025-03-31T17:09:53.953Z"
   },
   {
    "duration": 16,
    "start_time": "2025-03-31T17:09:53.960Z"
   },
   {
    "duration": 18,
    "start_time": "2025-03-31T17:09:53.977Z"
   },
   {
    "duration": 49,
    "start_time": "2025-03-31T17:09:53.998Z"
   },
   {
    "duration": 15,
    "start_time": "2025-03-31T17:09:54.049Z"
   },
   {
    "duration": 29,
    "start_time": "2025-03-31T17:09:54.066Z"
   },
   {
    "duration": 13,
    "start_time": "2025-03-31T17:09:54.097Z"
   },
   {
    "duration": 12,
    "start_time": "2025-03-31T17:09:54.132Z"
   },
   {
    "duration": 3,
    "start_time": "2025-03-31T17:16:11.998Z"
   },
   {
    "duration": 3,
    "start_time": "2025-03-31T17:17:34.442Z"
   },
   {
    "duration": 11,
    "start_time": "2025-03-31T17:17:41.781Z"
   },
   {
    "duration": 575,
    "start_time": "2025-03-31T17:19:17.881Z"
   },
   {
    "duration": 3,
    "start_time": "2025-03-31T17:19:28.750Z"
   },
   {
    "duration": 443,
    "start_time": "2025-03-31T17:24:05.972Z"
   },
   {
    "duration": 69,
    "start_time": "2025-03-31T17:24:06.418Z"
   },
   {
    "duration": 11,
    "start_time": "2025-03-31T17:24:06.488Z"
   },
   {
    "duration": 8,
    "start_time": "2025-03-31T17:24:06.501Z"
   },
   {
    "duration": 8,
    "start_time": "2025-03-31T17:24:06.512Z"
   },
   {
    "duration": 7,
    "start_time": "2025-03-31T17:24:06.532Z"
   },
   {
    "duration": 14,
    "start_time": "2025-03-31T17:24:06.541Z"
   },
   {
    "duration": 9,
    "start_time": "2025-03-31T17:24:06.556Z"
   },
   {
    "duration": 3,
    "start_time": "2025-03-31T17:24:06.568Z"
   },
   {
    "duration": 5,
    "start_time": "2025-03-31T17:24:06.573Z"
   },
   {
    "duration": 53,
    "start_time": "2025-03-31T17:24:06.580Z"
   },
   {
    "duration": 21,
    "start_time": "2025-03-31T17:24:06.634Z"
   },
   {
    "duration": 3,
    "start_time": "2025-03-31T17:24:06.657Z"
   },
   {
    "duration": 7,
    "start_time": "2025-03-31T17:24:06.663Z"
   },
   {
    "duration": 4,
    "start_time": "2025-03-31T17:24:06.672Z"
   },
   {
    "duration": 5,
    "start_time": "2025-03-31T17:24:06.677Z"
   },
   {
    "duration": 3,
    "start_time": "2025-03-31T17:24:06.683Z"
   },
   {
    "duration": 43,
    "start_time": "2025-03-31T17:24:06.689Z"
   },
   {
    "duration": 6,
    "start_time": "2025-03-31T17:24:06.734Z"
   },
   {
    "duration": 15,
    "start_time": "2025-03-31T17:24:06.741Z"
   },
   {
    "duration": 485,
    "start_time": "2025-03-31T17:24:06.757Z"
   },
   {
    "duration": 0,
    "start_time": "2025-03-31T17:24:07.244Z"
   },
   {
    "duration": 0,
    "start_time": "2025-03-31T17:24:07.245Z"
   },
   {
    "duration": 31,
    "start_time": "2025-03-31T17:26:10.007Z"
   },
   {
    "duration": 14,
    "start_time": "2025-03-31T17:26:13.132Z"
   },
   {
    "duration": 12,
    "start_time": "2025-03-31T17:26:34.850Z"
   },
   {
    "duration": 9,
    "start_time": "2025-03-31T17:34:39.860Z"
   },
   {
    "duration": 4,
    "start_time": "2025-03-31T17:34:46.174Z"
   },
   {
    "duration": 9,
    "start_time": "2025-03-31T17:34:59.780Z"
   },
   {
    "duration": 30,
    "start_time": "2025-03-31T17:35:18.088Z"
   },
   {
    "duration": 433,
    "start_time": "2025-03-31T17:36:45.776Z"
   },
   {
    "duration": 79,
    "start_time": "2025-03-31T17:36:46.211Z"
   },
   {
    "duration": 10,
    "start_time": "2025-03-31T17:36:46.292Z"
   },
   {
    "duration": 9,
    "start_time": "2025-03-31T17:36:46.304Z"
   },
   {
    "duration": 15,
    "start_time": "2025-03-31T17:36:46.317Z"
   },
   {
    "duration": 11,
    "start_time": "2025-03-31T17:36:46.333Z"
   },
   {
    "duration": 24,
    "start_time": "2025-03-31T17:36:46.346Z"
   },
   {
    "duration": 10,
    "start_time": "2025-03-31T17:36:46.372Z"
   },
   {
    "duration": 4,
    "start_time": "2025-03-31T17:36:46.386Z"
   },
   {
    "duration": 7,
    "start_time": "2025-03-31T17:36:46.392Z"
   },
   {
    "duration": 43,
    "start_time": "2025-03-31T17:36:46.401Z"
   },
   {
    "duration": 21,
    "start_time": "2025-03-31T17:36:46.445Z"
   },
   {
    "duration": 3,
    "start_time": "2025-03-31T17:36:46.468Z"
   },
   {
    "duration": 6,
    "start_time": "2025-03-31T17:36:46.475Z"
   },
   {
    "duration": 4,
    "start_time": "2025-03-31T17:36:46.483Z"
   },
   {
    "duration": 5,
    "start_time": "2025-03-31T17:36:46.489Z"
   },
   {
    "duration": 2,
    "start_time": "2025-03-31T17:36:46.496Z"
   },
   {
    "duration": 31,
    "start_time": "2025-03-31T17:36:46.531Z"
   },
   {
    "duration": 13,
    "start_time": "2025-03-31T17:36:46.564Z"
   },
   {
    "duration": 11,
    "start_time": "2025-03-31T17:36:46.578Z"
   },
   {
    "duration": 381,
    "start_time": "2025-03-31T17:36:46.590Z"
   },
   {
    "duration": 0,
    "start_time": "2025-03-31T17:36:46.973Z"
   },
   {
    "duration": 10,
    "start_time": "2025-03-31T17:40:47.616Z"
   },
   {
    "duration": 9,
    "start_time": "2025-03-31T17:40:50.741Z"
   },
   {
    "duration": 16,
    "start_time": "2025-03-31T17:51:56.924Z"
   },
   {
    "duration": 5,
    "start_time": "2025-03-31T17:52:11.046Z"
   },
   {
    "duration": 7,
    "start_time": "2025-03-31T17:53:13.226Z"
   },
   {
    "duration": 5,
    "start_time": "2025-03-31T17:53:15.486Z"
   },
   {
    "duration": 5,
    "start_time": "2025-03-31T17:54:28.616Z"
   },
   {
    "duration": 64,
    "start_time": "2025-03-31T17:57:28.197Z"
   },
   {
    "duration": 5,
    "start_time": "2025-03-31T17:57:39.994Z"
   },
   {
    "duration": 5,
    "start_time": "2025-03-31T18:00:28.596Z"
   },
   {
    "duration": 5,
    "start_time": "2025-03-31T18:04:11.035Z"
   },
   {
    "duration": 4,
    "start_time": "2025-03-31T18:06:47.525Z"
   },
   {
    "duration": 451,
    "start_time": "2025-03-31T18:07:04.904Z"
   },
   {
    "duration": 10,
    "start_time": "2025-03-31T18:07:38.239Z"
   },
   {
    "duration": 406,
    "start_time": "2025-03-31T18:08:19.890Z"
   },
   {
    "duration": 73,
    "start_time": "2025-03-31T18:08:20.299Z"
   },
   {
    "duration": 12,
    "start_time": "2025-03-31T18:08:20.374Z"
   },
   {
    "duration": 11,
    "start_time": "2025-03-31T18:08:20.387Z"
   },
   {
    "duration": 15,
    "start_time": "2025-03-31T18:08:20.405Z"
   },
   {
    "duration": 14,
    "start_time": "2025-03-31T18:08:20.422Z"
   },
   {
    "duration": 14,
    "start_time": "2025-03-31T18:08:20.437Z"
   },
   {
    "duration": 8,
    "start_time": "2025-03-31T18:08:20.453Z"
   },
   {
    "duration": 4,
    "start_time": "2025-03-31T18:08:20.462Z"
   },
   {
    "duration": 4,
    "start_time": "2025-03-31T18:08:20.468Z"
   },
   {
    "duration": 18,
    "start_time": "2025-03-31T18:08:20.473Z"
   },
   {
    "duration": 53,
    "start_time": "2025-03-31T18:08:20.493Z"
   },
   {
    "duration": 4,
    "start_time": "2025-03-31T18:08:20.548Z"
   },
   {
    "duration": 5,
    "start_time": "2025-03-31T18:08:20.557Z"
   },
   {
    "duration": 4,
    "start_time": "2025-03-31T18:08:20.564Z"
   },
   {
    "duration": 5,
    "start_time": "2025-03-31T18:08:20.569Z"
   },
   {
    "duration": 3,
    "start_time": "2025-03-31T18:08:20.575Z"
   },
   {
    "duration": 58,
    "start_time": "2025-03-31T18:08:20.580Z"
   },
   {
    "duration": 13,
    "start_time": "2025-03-31T18:08:20.640Z"
   },
   {
    "duration": 11,
    "start_time": "2025-03-31T18:08:20.654Z"
   },
   {
    "duration": 10,
    "start_time": "2025-03-31T18:08:20.668Z"
   },
   {
    "duration": 9,
    "start_time": "2025-03-31T18:08:20.680Z"
   },
   {
    "duration": 6,
    "start_time": "2025-03-31T18:08:20.690Z"
   },
   {
    "duration": 51,
    "start_time": "2025-03-31T18:08:20.698Z"
   },
   {
    "duration": 5,
    "start_time": "2025-03-31T18:08:20.750Z"
   },
   {
    "duration": 5,
    "start_time": "2025-03-31T18:08:20.757Z"
   },
   {
    "duration": 8,
    "start_time": "2025-03-31T18:08:20.764Z"
   },
   {
    "duration": 10,
    "start_time": "2025-03-31T18:08:48.404Z"
   },
   {
    "duration": 460,
    "start_time": "2025-03-31T19:56:58.504Z"
   },
   {
    "duration": 4,
    "start_time": "2025-03-31T19:58:44.071Z"
   },
   {
    "duration": 5,
    "start_time": "2025-03-31T20:00:36.398Z"
   },
   {
    "duration": 25,
    "start_time": "2025-03-31T21:58:46.144Z"
   },
   {
    "duration": 4,
    "start_time": "2025-03-31T21:59:57.118Z"
   },
   {
    "duration": 19,
    "start_time": "2025-03-31T22:01:55.313Z"
   },
   {
    "duration": 7,
    "start_time": "2025-03-31T22:02:19.661Z"
   },
   {
    "duration": 10,
    "start_time": "2025-03-31T22:12:25.036Z"
   },
   {
    "duration": 8,
    "start_time": "2025-03-31T22:12:35.284Z"
   },
   {
    "duration": 8,
    "start_time": "2025-03-31T22:12:51.360Z"
   },
   {
    "duration": 6,
    "start_time": "2025-03-31T22:14:33.276Z"
   },
   {
    "duration": 3,
    "start_time": "2025-03-31T22:18:54.522Z"
   },
   {
    "duration": 409,
    "start_time": "2025-03-31T22:21:10.118Z"
   },
   {
    "duration": 18,
    "start_time": "2025-03-31T22:21:29.523Z"
   },
   {
    "duration": 9,
    "start_time": "2025-03-31T22:21:58.059Z"
   },
   {
    "duration": 3,
    "start_time": "2025-03-31T22:24:13.972Z"
   },
   {
    "duration": 263,
    "start_time": "2025-03-31T22:25:49.443Z"
   },
   {
    "duration": 6,
    "start_time": "2025-03-31T22:32:57.668Z"
   },
   {
    "duration": 4,
    "start_time": "2025-03-31T22:33:47.244Z"
   },
   {
    "duration": 574,
    "start_time": "2025-03-31T22:34:00.638Z"
   },
   {
    "duration": 978,
    "start_time": "2025-03-31T22:34:14.147Z"
   },
   {
    "duration": 43,
    "start_time": "2025-03-31T22:34:15.127Z"
   },
   {
    "duration": 10,
    "start_time": "2025-03-31T22:34:15.171Z"
   },
   {
    "duration": 8,
    "start_time": "2025-03-31T22:34:15.183Z"
   },
   {
    "duration": 10,
    "start_time": "2025-03-31T22:34:15.193Z"
   },
   {
    "duration": 7,
    "start_time": "2025-03-31T22:34:15.204Z"
   },
   {
    "duration": 29,
    "start_time": "2025-03-31T22:34:15.214Z"
   },
   {
    "duration": 9,
    "start_time": "2025-03-31T22:34:15.244Z"
   },
   {
    "duration": 6,
    "start_time": "2025-03-31T22:34:15.256Z"
   },
   {
    "duration": 4,
    "start_time": "2025-03-31T22:34:15.264Z"
   },
   {
    "duration": 18,
    "start_time": "2025-03-31T22:34:15.270Z"
   },
   {
    "duration": 43,
    "start_time": "2025-03-31T22:34:15.290Z"
   },
   {
    "duration": 4,
    "start_time": "2025-03-31T22:34:15.335Z"
   },
   {
    "duration": 6,
    "start_time": "2025-03-31T22:34:15.344Z"
   },
   {
    "duration": 4,
    "start_time": "2025-03-31T22:34:15.352Z"
   },
   {
    "duration": 5,
    "start_time": "2025-03-31T22:34:15.358Z"
   },
   {
    "duration": 3,
    "start_time": "2025-03-31T22:34:15.365Z"
   },
   {
    "duration": 74,
    "start_time": "2025-03-31T22:34:15.370Z"
   },
   {
    "duration": 14,
    "start_time": "2025-03-31T22:34:15.445Z"
   },
   {
    "duration": 12,
    "start_time": "2025-03-31T22:34:15.462Z"
   },
   {
    "duration": 10,
    "start_time": "2025-03-31T22:34:15.476Z"
   },
   {
    "duration": 14,
    "start_time": "2025-03-31T22:34:15.489Z"
   },
   {
    "duration": 27,
    "start_time": "2025-03-31T22:34:15.504Z"
   },
   {
    "duration": 67,
    "start_time": "2025-03-31T22:34:15.532Z"
   },
   {
    "duration": 5,
    "start_time": "2025-03-31T22:34:15.600Z"
   },
   {
    "duration": 5,
    "start_time": "2025-03-31T22:34:15.606Z"
   },
   {
    "duration": 6,
    "start_time": "2025-03-31T22:34:15.632Z"
   },
   {
    "duration": 11,
    "start_time": "2025-03-31T22:34:15.640Z"
   },
   {
    "duration": 3,
    "start_time": "2025-03-31T22:34:15.652Z"
   },
   {
    "duration": 5,
    "start_time": "2025-03-31T22:34:15.658Z"
   },
   {
    "duration": 10,
    "start_time": "2025-03-31T22:34:15.664Z"
   },
   {
    "duration": 10,
    "start_time": "2025-03-31T22:34:15.676Z"
   },
   {
    "duration": 6,
    "start_time": "2025-03-31T22:34:15.687Z"
   },
   {
    "duration": 40,
    "start_time": "2025-03-31T22:34:15.694Z"
   },
   {
    "duration": 236,
    "start_time": "2025-03-31T23:05:27.732Z"
   },
   {
    "duration": 16,
    "start_time": "2025-03-31T23:05:34.940Z"
   },
   {
    "duration": 17,
    "start_time": "2025-03-31T23:05:39.717Z"
   },
   {
    "duration": 321,
    "start_time": "2025-03-31T23:06:31.112Z"
   },
   {
    "duration": 885,
    "start_time": "2025-03-31T23:10:13.879Z"
   },
   {
    "duration": 35,
    "start_time": "2025-03-31T23:10:14.767Z"
   },
   {
    "duration": 9,
    "start_time": "2025-03-31T23:10:14.804Z"
   },
   {
    "duration": 8,
    "start_time": "2025-03-31T23:10:14.815Z"
   },
   {
    "duration": 8,
    "start_time": "2025-03-31T23:10:14.831Z"
   },
   {
    "duration": 7,
    "start_time": "2025-03-31T23:10:14.841Z"
   },
   {
    "duration": 15,
    "start_time": "2025-03-31T23:10:14.849Z"
   },
   {
    "duration": 8,
    "start_time": "2025-03-31T23:10:14.866Z"
   },
   {
    "duration": 5,
    "start_time": "2025-03-31T23:10:14.876Z"
   },
   {
    "duration": 5,
    "start_time": "2025-03-31T23:10:14.885Z"
   },
   {
    "duration": 54,
    "start_time": "2025-03-31T23:10:14.891Z"
   },
   {
    "duration": 19,
    "start_time": "2025-03-31T23:10:14.947Z"
   },
   {
    "duration": 3,
    "start_time": "2025-03-31T23:10:14.968Z"
   },
   {
    "duration": 6,
    "start_time": "2025-03-31T23:10:14.973Z"
   },
   {
    "duration": 4,
    "start_time": "2025-03-31T23:10:14.981Z"
   },
   {
    "duration": 5,
    "start_time": "2025-03-31T23:10:14.987Z"
   },
   {
    "duration": 3,
    "start_time": "2025-03-31T23:10:14.993Z"
   },
   {
    "duration": 63,
    "start_time": "2025-03-31T23:10:14.997Z"
   },
   {
    "duration": 13,
    "start_time": "2025-03-31T23:10:15.061Z"
   },
   {
    "duration": 11,
    "start_time": "2025-03-31T23:10:15.075Z"
   },
   {
    "duration": 10,
    "start_time": "2025-03-31T23:10:15.088Z"
   },
   {
    "duration": 33,
    "start_time": "2025-03-31T23:10:15.100Z"
   },
   {
    "duration": 6,
    "start_time": "2025-03-31T23:10:15.135Z"
   },
   {
    "duration": 69,
    "start_time": "2025-03-31T23:10:15.142Z"
   },
   {
    "duration": 22,
    "start_time": "2025-03-31T23:10:15.212Z"
   },
   {
    "duration": 5,
    "start_time": "2025-03-31T23:10:15.235Z"
   },
   {
    "duration": 5,
    "start_time": "2025-03-31T23:10:15.241Z"
   },
   {
    "duration": 8,
    "start_time": "2025-03-31T23:10:15.250Z"
   },
   {
    "duration": 240,
    "start_time": "2025-03-31T23:10:15.260Z"
   },
   {
    "duration": 0,
    "start_time": "2025-03-31T23:10:15.501Z"
   },
   {
    "duration": 0,
    "start_time": "2025-03-31T23:10:15.503Z"
   },
   {
    "duration": 0,
    "start_time": "2025-03-31T23:10:15.504Z"
   },
   {
    "duration": 0,
    "start_time": "2025-03-31T23:10:15.505Z"
   },
   {
    "duration": 0,
    "start_time": "2025-03-31T23:10:15.506Z"
   },
   {
    "duration": 4,
    "start_time": "2025-03-31T23:11:01.662Z"
   },
   {
    "duration": 6,
    "start_time": "2025-03-31T23:11:04.468Z"
   },
   {
    "duration": 10,
    "start_time": "2025-03-31T23:11:10.135Z"
   },
   {
    "duration": 9,
    "start_time": "2025-03-31T23:11:12.465Z"
   },
   {
    "duration": 4,
    "start_time": "2025-03-31T23:11:16.074Z"
   },
   {
    "duration": 10,
    "start_time": "2025-03-31T23:11:17.344Z"
   },
   {
    "duration": 64,
    "start_time": "2025-03-31T23:11:21.188Z"
   },
   {
    "duration": 45,
    "start_time": "2025-03-31T23:14:24.753Z"
   },
   {
    "duration": 3,
    "start_time": "2025-03-31T23:32:08.701Z"
   },
   {
    "duration": 6,
    "start_time": "2025-04-01T00:05:32.947Z"
   },
   {
    "duration": 1036,
    "start_time": "2025-04-01T00:07:41.013Z"
   },
   {
    "duration": 36,
    "start_time": "2025-04-01T00:07:42.052Z"
   },
   {
    "duration": 11,
    "start_time": "2025-04-01T00:07:42.090Z"
   },
   {
    "duration": 9,
    "start_time": "2025-04-01T00:07:42.102Z"
   },
   {
    "duration": 24,
    "start_time": "2025-04-01T00:07:42.113Z"
   },
   {
    "duration": 8,
    "start_time": "2025-04-01T00:07:42.138Z"
   },
   {
    "duration": 15,
    "start_time": "2025-04-01T00:07:42.147Z"
   },
   {
    "duration": 8,
    "start_time": "2025-04-01T00:07:42.163Z"
   },
   {
    "duration": 5,
    "start_time": "2025-04-01T00:07:42.172Z"
   },
   {
    "duration": 5,
    "start_time": "2025-04-01T00:07:42.178Z"
   },
   {
    "duration": 47,
    "start_time": "2025-04-01T00:07:42.184Z"
   },
   {
    "duration": 20,
    "start_time": "2025-04-01T00:07:42.233Z"
   },
   {
    "duration": 3,
    "start_time": "2025-04-01T00:07:42.255Z"
   },
   {
    "duration": 6,
    "start_time": "2025-04-01T00:07:42.261Z"
   },
   {
    "duration": 4,
    "start_time": "2025-04-01T00:07:42.269Z"
   },
   {
    "duration": 4,
    "start_time": "2025-04-01T00:07:42.276Z"
   },
   {
    "duration": 3,
    "start_time": "2025-04-01T00:07:42.281Z"
   },
   {
    "duration": 63,
    "start_time": "2025-04-01T00:07:42.285Z"
   },
   {
    "duration": 15,
    "start_time": "2025-04-01T00:07:42.349Z"
   },
   {
    "duration": 11,
    "start_time": "2025-04-01T00:07:42.365Z"
   },
   {
    "duration": 10,
    "start_time": "2025-04-01T00:07:42.377Z"
   },
   {
    "duration": 9,
    "start_time": "2025-04-01T00:07:42.389Z"
   },
   {
    "duration": 35,
    "start_time": "2025-04-01T00:07:42.400Z"
   },
   {
    "duration": 22,
    "start_time": "2025-04-01T00:07:42.438Z"
   },
   {
    "duration": 4,
    "start_time": "2025-04-01T00:07:42.461Z"
   },
   {
    "duration": 5,
    "start_time": "2025-04-01T00:07:42.467Z"
   },
   {
    "duration": 5,
    "start_time": "2025-04-01T00:07:42.473Z"
   },
   {
    "duration": 10,
    "start_time": "2025-04-01T00:07:42.479Z"
   },
   {
    "duration": 3,
    "start_time": "2025-04-01T00:07:42.491Z"
   },
   {
    "duration": 37,
    "start_time": "2025-04-01T00:07:42.496Z"
   },
   {
    "duration": 10,
    "start_time": "2025-04-01T00:07:42.534Z"
   },
   {
    "duration": 9,
    "start_time": "2025-04-01T00:07:42.545Z"
   },
   {
    "duration": 3,
    "start_time": "2025-04-01T00:07:42.555Z"
   },
   {
    "duration": 10,
    "start_time": "2025-04-01T00:07:42.560Z"
   },
   {
    "duration": 163,
    "start_time": "2025-04-01T00:07:42.572Z"
   },
   {
    "duration": 321216,
    "start_time": "2025-04-01T00:07:42.736Z"
   },
   {
    "duration": 3,
    "start_time": "2025-04-01T00:21:48.157Z"
   },
   {
    "duration": 4,
    "start_time": "2025-04-01T00:23:38.376Z"
   },
   {
    "duration": 225,
    "start_time": "2025-04-01T00:29:34.855Z"
   },
   {
    "duration": 80,
    "start_time": "2025-04-01T00:30:05.507Z"
   },
   {
    "duration": 51193,
    "start_time": "2025-04-01T00:39:16.151Z"
   },
   {
    "duration": 3,
    "start_time": "2025-04-01T00:40:49.987Z"
   },
   {
    "duration": 144345,
    "start_time": "2025-04-01T00:49:18.673Z"
   },
   {
    "duration": 3,
    "start_time": "2025-04-01T00:56:58.726Z"
   },
   {
    "duration": 14,
    "start_time": "2025-04-01T01:03:09.733Z"
   },
   {
    "duration": 30,
    "start_time": "2025-04-01T01:09:37.708Z"
   },
   {
    "duration": 33,
    "start_time": "2025-04-01T01:12:11.898Z"
   },
   {
    "duration": 9,
    "start_time": "2025-04-01T01:13:56.496Z"
   },
   {
    "duration": 6,
    "start_time": "2025-04-01T01:15:39.255Z"
   },
   {
    "duration": 319,
    "start_time": "2025-04-01T01:19:51.864Z"
   },
   {
    "duration": 1047,
    "start_time": "2025-04-01T02:54:52.752Z"
   },
   {
    "duration": 39,
    "start_time": "2025-04-01T02:54:53.802Z"
   },
   {
    "duration": 11,
    "start_time": "2025-04-01T02:54:53.843Z"
   },
   {
    "duration": 8,
    "start_time": "2025-04-01T02:54:53.856Z"
   },
   {
    "duration": 10,
    "start_time": "2025-04-01T02:54:53.865Z"
   },
   {
    "duration": 7,
    "start_time": "2025-04-01T02:54:53.876Z"
   },
   {
    "duration": 16,
    "start_time": "2025-04-01T02:54:53.885Z"
   },
   {
    "duration": 34,
    "start_time": "2025-04-01T02:54:53.903Z"
   },
   {
    "duration": 5,
    "start_time": "2025-04-01T02:54:53.939Z"
   },
   {
    "duration": 5,
    "start_time": "2025-04-01T02:54:53.948Z"
   },
   {
    "duration": 17,
    "start_time": "2025-04-01T02:54:53.954Z"
   },
   {
    "duration": 21,
    "start_time": "2025-04-01T02:54:53.972Z"
   },
   {
    "duration": 4,
    "start_time": "2025-04-01T02:54:53.994Z"
   },
   {
    "duration": 37,
    "start_time": "2025-04-01T02:54:53.999Z"
   },
   {
    "duration": 5,
    "start_time": "2025-04-01T02:54:54.038Z"
   },
   {
    "duration": 4,
    "start_time": "2025-04-01T02:54:54.045Z"
   },
   {
    "duration": 3,
    "start_time": "2025-04-01T02:54:54.051Z"
   },
   {
    "duration": 31,
    "start_time": "2025-04-01T02:54:54.056Z"
   },
   {
    "duration": 44,
    "start_time": "2025-04-01T02:54:54.088Z"
   },
   {
    "duration": 12,
    "start_time": "2025-04-01T02:54:54.134Z"
   },
   {
    "duration": 11,
    "start_time": "2025-04-01T02:54:54.147Z"
   },
   {
    "duration": 9,
    "start_time": "2025-04-01T02:54:54.159Z"
   },
   {
    "duration": 5,
    "start_time": "2025-04-01T02:54:54.170Z"
   },
   {
    "duration": 22,
    "start_time": "2025-04-01T02:54:54.177Z"
   },
   {
    "duration": 32,
    "start_time": "2025-04-01T02:54:54.200Z"
   },
   {
    "duration": 4,
    "start_time": "2025-04-01T02:54:54.234Z"
   },
   {
    "duration": 4,
    "start_time": "2025-04-01T02:54:54.240Z"
   },
   {
    "duration": 10,
    "start_time": "2025-04-01T02:54:54.248Z"
   },
   {
    "duration": 3,
    "start_time": "2025-04-01T02:54:54.259Z"
   },
   {
    "duration": 4,
    "start_time": "2025-04-01T02:54:54.264Z"
   },
   {
    "duration": 8,
    "start_time": "2025-04-01T02:54:54.270Z"
   },
   {
    "duration": 9,
    "start_time": "2025-04-01T02:54:54.279Z"
   },
   {
    "duration": 43,
    "start_time": "2025-04-01T02:54:54.289Z"
   },
   {
    "duration": 10,
    "start_time": "2025-04-01T02:54:54.334Z"
   },
   {
    "duration": 447,
    "start_time": "2025-04-01T02:54:54.346Z"
   },
   {
    "duration": 0,
    "start_time": "2025-04-01T02:54:54.795Z"
   },
   {
    "duration": 0,
    "start_time": "2025-04-01T02:54:54.796Z"
   },
   {
    "duration": 0,
    "start_time": "2025-04-01T02:54:54.797Z"
   },
   {
    "duration": 0,
    "start_time": "2025-04-01T02:54:54.799Z"
   },
   {
    "duration": 0,
    "start_time": "2025-04-01T02:54:54.801Z"
   },
   {
    "duration": 0,
    "start_time": "2025-04-01T02:54:54.802Z"
   },
   {
    "duration": 0,
    "start_time": "2025-04-01T02:54:54.804Z"
   },
   {
    "duration": 0,
    "start_time": "2025-04-01T02:54:54.805Z"
   },
   {
    "duration": 0,
    "start_time": "2025-04-01T02:54:54.807Z"
   },
   {
    "duration": 89,
    "start_time": "2025-04-01T02:55:30.252Z"
   },
   {
    "duration": 5,
    "start_time": "2025-04-01T02:55:32.720Z"
   },
   {
    "duration": 1093,
    "start_time": "2025-04-01T02:55:51.846Z"
   },
   {
    "duration": 30,
    "start_time": "2025-04-01T02:55:52.941Z"
   },
   {
    "duration": 10,
    "start_time": "2025-04-01T02:55:52.973Z"
   },
   {
    "duration": 9,
    "start_time": "2025-04-01T02:55:52.985Z"
   },
   {
    "duration": 8,
    "start_time": "2025-04-01T02:55:52.996Z"
   },
   {
    "duration": 31,
    "start_time": "2025-04-01T02:55:53.006Z"
   },
   {
    "duration": 14,
    "start_time": "2025-04-01T02:55:53.039Z"
   },
   {
    "duration": 8,
    "start_time": "2025-04-01T02:55:53.055Z"
   },
   {
    "duration": 4,
    "start_time": "2025-04-01T02:55:53.064Z"
   },
   {
    "duration": 5,
    "start_time": "2025-04-01T02:55:53.072Z"
   },
   {
    "duration": 17,
    "start_time": "2025-04-01T02:55:53.079Z"
   },
   {
    "duration": 51,
    "start_time": "2025-04-01T02:55:53.098Z"
   },
   {
    "duration": 3,
    "start_time": "2025-04-01T02:55:53.153Z"
   },
   {
    "duration": 6,
    "start_time": "2025-04-01T02:55:53.158Z"
   },
   {
    "duration": 4,
    "start_time": "2025-04-01T02:55:53.165Z"
   },
   {
    "duration": 4,
    "start_time": "2025-04-01T02:55:53.172Z"
   },
   {
    "duration": 3,
    "start_time": "2025-04-01T02:55:53.177Z"
   },
   {
    "duration": 59,
    "start_time": "2025-04-01T02:55:53.181Z"
   },
   {
    "duration": 14,
    "start_time": "2025-04-01T02:55:53.241Z"
   },
   {
    "duration": 10,
    "start_time": "2025-04-01T02:55:53.257Z"
   },
   {
    "duration": 10,
    "start_time": "2025-04-01T02:55:53.269Z"
   },
   {
    "duration": 9,
    "start_time": "2025-04-01T02:55:53.281Z"
   },
   {
    "duration": 8,
    "start_time": "2025-04-01T02:55:53.291Z"
   },
   {
    "duration": 52,
    "start_time": "2025-04-01T02:55:53.300Z"
   },
   {
    "duration": 4,
    "start_time": "2025-04-01T02:55:53.354Z"
   },
   {
    "duration": 5,
    "start_time": "2025-04-01T02:55:53.360Z"
   },
   {
    "duration": 8,
    "start_time": "2025-04-01T02:55:53.367Z"
   },
   {
    "duration": 13,
    "start_time": "2025-04-01T02:55:53.380Z"
   },
   {
    "duration": 4,
    "start_time": "2025-04-01T02:55:53.395Z"
   },
   {
    "duration": 35,
    "start_time": "2025-04-01T02:55:53.400Z"
   },
   {
    "duration": 8,
    "start_time": "2025-04-01T02:55:53.437Z"
   },
   {
    "duration": 9,
    "start_time": "2025-04-01T02:55:53.447Z"
   },
   {
    "duration": 3,
    "start_time": "2025-04-01T02:55:53.458Z"
   },
   {
    "duration": 11,
    "start_time": "2025-04-01T02:55:53.462Z"
   },
   {
    "duration": 161,
    "start_time": "2025-04-01T02:55:53.474Z"
   },
   {
    "duration": 7,
    "start_time": "2025-04-01T02:55:53.639Z"
   },
   {
    "duration": 326334,
    "start_time": "2025-04-01T02:55:53.651Z"
   },
   {
    "duration": 19,
    "start_time": "2025-04-01T03:01:20.032Z"
   },
   {
    "duration": 54987,
    "start_time": "2025-04-01T03:01:20.054Z"
   },
   {
    "duration": 104,
    "start_time": "2025-04-01T03:02:15.043Z"
   },
   {
    "duration": 115966,
    "start_time": "2025-04-01T03:02:15.150Z"
   },
   {
    "duration": 11,
    "start_time": "2025-04-01T03:04:11.117Z"
   },
   {
    "duration": 8,
    "start_time": "2025-04-01T03:04:11.130Z"
   },
   {
    "duration": 332,
    "start_time": "2025-04-01T03:04:11.140Z"
   },
   {
    "duration": 1056,
    "start_time": "2025-04-01T08:11:50.597Z"
   },
   {
    "duration": 47,
    "start_time": "2025-04-01T08:11:51.656Z"
   },
   {
    "duration": 10,
    "start_time": "2025-04-01T08:11:51.920Z"
   },
   {
    "duration": 9,
    "start_time": "2025-04-01T08:11:52.074Z"
   },
   {
    "duration": 8,
    "start_time": "2025-04-01T08:11:52.232Z"
   },
   {
    "duration": 8,
    "start_time": "2025-04-01T08:11:52.379Z"
   },
   {
    "duration": 15,
    "start_time": "2025-04-01T08:11:52.530Z"
   },
   {
    "duration": 9,
    "start_time": "2025-04-01T08:11:52.708Z"
   },
   {
    "duration": 4,
    "start_time": "2025-04-01T08:11:52.805Z"
   },
   {
    "duration": 7,
    "start_time": "2025-04-01T08:11:53.223Z"
   },
   {
    "duration": 18,
    "start_time": "2025-04-01T08:11:53.794Z"
   },
   {
    "duration": 20,
    "start_time": "2025-04-01T08:11:53.959Z"
   },
   {
    "duration": 4,
    "start_time": "2025-04-01T08:11:54.491Z"
   },
   {
    "duration": 8,
    "start_time": "2025-04-01T08:11:55.169Z"
   },
   {
    "duration": 5,
    "start_time": "2025-04-01T08:11:56.762Z"
   },
   {
    "duration": 4,
    "start_time": "2025-04-01T08:11:56.935Z"
   },
   {
    "duration": 3,
    "start_time": "2025-04-01T08:11:57.632Z"
   },
   {
    "duration": 30,
    "start_time": "2025-04-01T08:12:01.723Z"
   },
   {
    "duration": 13,
    "start_time": "2025-04-01T08:12:03.640Z"
   },
   {
    "duration": 11,
    "start_time": "2025-04-01T08:12:03.813Z"
   },
   {
    "duration": 11,
    "start_time": "2025-04-01T08:12:06.784Z"
   },
   {
    "duration": 11,
    "start_time": "2025-04-01T08:12:13.824Z"
   },
   {
    "duration": 6,
    "start_time": "2025-04-01T08:12:14.450Z"
   },
   {
    "duration": 24,
    "start_time": "2025-04-01T08:12:22.703Z"
   },
   {
    "duration": 6,
    "start_time": "2025-04-01T08:12:26.785Z"
   },
   {
    "duration": 2663,
    "start_time": "2025-04-01T13:35:41.075Z"
   },
   {
    "duration": 67,
    "start_time": "2025-04-01T13:35:43.739Z"
   },
   {
    "duration": 11,
    "start_time": "2025-04-01T13:35:43.808Z"
   },
   {
    "duration": 8,
    "start_time": "2025-04-01T13:35:43.821Z"
   },
   {
    "duration": 8,
    "start_time": "2025-04-01T13:35:43.831Z"
   },
   {
    "duration": 7,
    "start_time": "2025-04-01T13:35:43.841Z"
   },
   {
    "duration": 14,
    "start_time": "2025-04-01T13:35:43.850Z"
   },
   {
    "duration": 7,
    "start_time": "2025-04-01T13:35:43.866Z"
   },
   {
    "duration": 4,
    "start_time": "2025-04-01T13:35:43.875Z"
   },
   {
    "duration": 4,
    "start_time": "2025-04-01T13:35:43.882Z"
   },
   {
    "duration": 54,
    "start_time": "2025-04-01T13:35:43.888Z"
   },
   {
    "duration": 19,
    "start_time": "2025-04-01T13:35:43.943Z"
   },
   {
    "duration": 4,
    "start_time": "2025-04-01T13:35:43.963Z"
   },
   {
    "duration": 6,
    "start_time": "2025-04-01T13:35:43.969Z"
   },
   {
    "duration": 5,
    "start_time": "2025-04-01T13:35:43.977Z"
   },
   {
    "duration": 5,
    "start_time": "2025-04-01T13:35:43.983Z"
   },
   {
    "duration": 3,
    "start_time": "2025-04-01T13:35:43.990Z"
   },
   {
    "duration": 62,
    "start_time": "2025-04-01T13:35:43.995Z"
   },
   {
    "duration": 14,
    "start_time": "2025-04-01T13:35:44.059Z"
   },
   {
    "duration": 11,
    "start_time": "2025-04-01T13:35:44.074Z"
   },
   {
    "duration": 11,
    "start_time": "2025-04-01T13:35:44.086Z"
   },
   {
    "duration": 37,
    "start_time": "2025-04-01T13:35:44.099Z"
   },
   {
    "duration": 6,
    "start_time": "2025-04-01T13:35:44.138Z"
   },
   {
    "duration": 22,
    "start_time": "2025-04-01T13:35:44.145Z"
   },
   {
    "duration": 5,
    "start_time": "2025-04-01T13:35:44.168Z"
   },
   {
    "duration": 7,
    "start_time": "2025-04-01T13:35:44.174Z"
   },
   {
    "duration": 9,
    "start_time": "2025-04-01T13:35:44.182Z"
   },
   {
    "duration": 3,
    "start_time": "2025-04-01T13:35:44.196Z"
   },
   {
    "duration": 4,
    "start_time": "2025-04-01T13:35:44.231Z"
   },
   {
    "duration": 7,
    "start_time": "2025-04-01T13:35:44.238Z"
   },
   {
    "duration": 9,
    "start_time": "2025-04-01T13:35:44.246Z"
   },
   {
    "duration": 3,
    "start_time": "2025-04-01T13:35:44.257Z"
   },
   {
    "duration": 9,
    "start_time": "2025-04-01T13:35:44.262Z"
   },
   {
    "duration": 71,
    "start_time": "2025-04-01T13:35:44.272Z"
   },
   {
    "duration": 5,
    "start_time": "2025-04-01T13:35:44.348Z"
   },
   {
    "duration": 297546,
    "start_time": "2025-04-01T13:35:44.434Z"
   },
   {
    "duration": 55,
    "start_time": "2025-04-01T13:40:41.982Z"
   },
   {
    "duration": 49113,
    "start_time": "2025-04-01T13:40:42.038Z"
   },
   {
    "duration": 96,
    "start_time": "2025-04-01T13:41:31.153Z"
   },
   {
    "duration": 111200,
    "start_time": "2025-04-01T13:41:31.251Z"
   },
   {
    "duration": 8,
    "start_time": "2025-04-01T13:43:22.453Z"
   },
   {
    "duration": 6,
    "start_time": "2025-04-01T13:43:22.463Z"
   },
   {
    "duration": 385,
    "start_time": "2025-04-01T13:43:22.471Z"
   },
   {
    "duration": 1018,
    "start_time": "2025-04-01T13:46:52.326Z"
   },
   {
    "duration": 37,
    "start_time": "2025-04-01T13:46:53.346Z"
   },
   {
    "duration": 10,
    "start_time": "2025-04-01T13:46:53.385Z"
   },
   {
    "duration": 8,
    "start_time": "2025-04-01T13:46:53.397Z"
   },
   {
    "duration": 8,
    "start_time": "2025-04-01T13:46:53.406Z"
   },
   {
    "duration": 16,
    "start_time": "2025-04-01T13:46:53.416Z"
   },
   {
    "duration": 15,
    "start_time": "2025-04-01T13:46:53.434Z"
   },
   {
    "duration": 8,
    "start_time": "2025-04-01T13:46:53.450Z"
   },
   {
    "duration": 3,
    "start_time": "2025-04-01T13:46:53.460Z"
   },
   {
    "duration": 4,
    "start_time": "2025-04-01T13:46:53.467Z"
   },
   {
    "duration": 18,
    "start_time": "2025-04-01T13:46:53.472Z"
   },
   {
    "duration": 59,
    "start_time": "2025-04-01T13:46:53.491Z"
   },
   {
    "duration": 4,
    "start_time": "2025-04-01T13:46:53.551Z"
   },
   {
    "duration": 8,
    "start_time": "2025-04-01T13:46:53.557Z"
   },
   {
    "duration": 4,
    "start_time": "2025-04-01T13:46:53.567Z"
   },
   {
    "duration": 6,
    "start_time": "2025-04-01T13:46:53.572Z"
   },
   {
    "duration": 3,
    "start_time": "2025-04-01T13:46:53.579Z"
   },
   {
    "duration": 63,
    "start_time": "2025-04-01T13:46:53.584Z"
   },
   {
    "duration": 12,
    "start_time": "2025-04-01T13:46:53.648Z"
   },
   {
    "duration": 11,
    "start_time": "2025-04-01T13:46:53.662Z"
   },
   {
    "duration": 10,
    "start_time": "2025-04-01T13:46:53.674Z"
   },
   {
    "duration": 10,
    "start_time": "2025-04-01T13:46:53.686Z"
   },
   {
    "duration": 5,
    "start_time": "2025-04-01T13:46:53.698Z"
   },
   {
    "duration": 28,
    "start_time": "2025-04-01T13:46:53.704Z"
   },
   {
    "duration": 3,
    "start_time": "2025-04-01T13:46:53.734Z"
   },
   {
    "duration": 5,
    "start_time": "2025-04-01T13:46:53.739Z"
   },
   {
    "duration": 5,
    "start_time": "2025-04-01T13:46:53.746Z"
   },
   {
    "duration": 10,
    "start_time": "2025-04-01T13:46:53.756Z"
   },
   {
    "duration": 3,
    "start_time": "2025-04-01T13:46:53.768Z"
   },
   {
    "duration": 5,
    "start_time": "2025-04-01T13:46:53.773Z"
   },
   {
    "duration": 7,
    "start_time": "2025-04-01T13:46:53.780Z"
   },
   {
    "duration": 49,
    "start_time": "2025-04-01T13:46:53.789Z"
   },
   {
    "duration": 4,
    "start_time": "2025-04-01T13:46:53.840Z"
   },
   {
    "duration": 10,
    "start_time": "2025-04-01T13:46:53.845Z"
   },
   {
    "duration": 78,
    "start_time": "2025-04-01T13:46:53.856Z"
   },
   {
    "duration": 6,
    "start_time": "2025-04-01T13:46:53.936Z"
   },
   {
    "duration": 302134,
    "start_time": "2025-04-01T13:46:53.944Z"
   },
   {
    "duration": 61,
    "start_time": "2025-04-01T13:51:56.080Z"
   },
   {
    "duration": 46288,
    "start_time": "2025-04-01T13:51:56.144Z"
   },
   {
    "duration": 99,
    "start_time": "2025-04-01T13:52:42.433Z"
   },
   {
    "duration": 110458,
    "start_time": "2025-04-01T13:52:42.535Z"
   },
   {
    "duration": 8,
    "start_time": "2025-04-01T13:54:32.995Z"
   },
   {
    "duration": 7,
    "start_time": "2025-04-01T13:54:33.005Z"
   },
   {
    "duration": 339,
    "start_time": "2025-04-01T13:54:33.013Z"
   },
   {
    "duration": 1042,
    "start_time": "2025-04-01T14:15:23.669Z"
   },
   {
    "duration": 41,
    "start_time": "2025-04-01T14:15:24.713Z"
   },
   {
    "duration": 10,
    "start_time": "2025-04-01T14:15:24.756Z"
   },
   {
    "duration": 9,
    "start_time": "2025-04-01T14:15:24.767Z"
   },
   {
    "duration": 8,
    "start_time": "2025-04-01T14:15:24.779Z"
   },
   {
    "duration": 7,
    "start_time": "2025-04-01T14:15:24.789Z"
   },
   {
    "duration": 14,
    "start_time": "2025-04-01T14:15:24.797Z"
   },
   {
    "duration": 7,
    "start_time": "2025-04-01T14:15:24.832Z"
   },
   {
    "duration": 3,
    "start_time": "2025-04-01T14:15:24.841Z"
   },
   {
    "duration": 4,
    "start_time": "2025-04-01T14:15:24.846Z"
   },
   {
    "duration": 17,
    "start_time": "2025-04-01T14:15:24.852Z"
   },
   {
    "duration": 20,
    "start_time": "2025-04-01T14:15:24.870Z"
   },
   {
    "duration": 4,
    "start_time": "2025-04-01T14:15:24.891Z"
   },
   {
    "duration": 7,
    "start_time": "2025-04-01T14:15:24.931Z"
   },
   {
    "duration": 6,
    "start_time": "2025-04-01T14:15:24.939Z"
   },
   {
    "duration": 4,
    "start_time": "2025-04-01T14:15:24.946Z"
   },
   {
    "duration": 3,
    "start_time": "2025-04-01T14:15:24.951Z"
   },
   {
    "duration": 30,
    "start_time": "2025-04-01T14:15:24.956Z"
   },
   {
    "duration": 14,
    "start_time": "2025-04-01T14:15:24.987Z"
   },
   {
    "duration": 37,
    "start_time": "2025-04-01T14:15:25.003Z"
   },
   {
    "duration": 10,
    "start_time": "2025-04-01T14:15:25.041Z"
   },
   {
    "duration": 10,
    "start_time": "2025-04-01T14:15:25.052Z"
   },
   {
    "duration": 2,
    "start_time": "2025-04-01T14:15:25.063Z"
   },
   {
    "duration": 5,
    "start_time": "2025-04-01T14:15:37.468Z"
   },
   {
    "duration": 5,
    "start_time": "2025-04-01T16:27:20.677Z"
   },
   {
    "duration": 8,
    "start_time": "2025-04-01T16:27:38.266Z"
   },
   {
    "duration": 11,
    "start_time": "2025-04-01T16:28:24.444Z"
   },
   {
    "duration": 1023,
    "start_time": "2025-04-01T16:28:40.733Z"
   },
   {
    "duration": 45,
    "start_time": "2025-04-01T16:28:41.758Z"
   },
   {
    "duration": 12,
    "start_time": "2025-04-01T16:28:41.804Z"
   },
   {
    "duration": 8,
    "start_time": "2025-04-01T16:28:41.818Z"
   },
   {
    "duration": 10,
    "start_time": "2025-04-01T16:28:41.828Z"
   },
   {
    "duration": 8,
    "start_time": "2025-04-01T16:28:41.839Z"
   },
   {
    "duration": 14,
    "start_time": "2025-04-01T16:28:41.848Z"
   },
   {
    "duration": 8,
    "start_time": "2025-04-01T16:28:41.864Z"
   },
   {
    "duration": 5,
    "start_time": "2025-04-01T16:28:41.874Z"
   },
   {
    "duration": 5,
    "start_time": "2025-04-01T16:28:41.883Z"
   },
   {
    "duration": 51,
    "start_time": "2025-04-01T16:28:41.891Z"
   },
   {
    "duration": 32,
    "start_time": "2025-04-01T16:28:41.944Z"
   },
   {
    "duration": 4,
    "start_time": "2025-04-01T16:28:41.978Z"
   },
   {
    "duration": 6,
    "start_time": "2025-04-01T16:28:41.985Z"
   },
   {
    "duration": 4,
    "start_time": "2025-04-01T16:28:41.995Z"
   },
   {
    "duration": 4,
    "start_time": "2025-04-01T16:28:42.001Z"
   },
   {
    "duration": 26,
    "start_time": "2025-04-01T16:28:42.007Z"
   },
   {
    "duration": 41,
    "start_time": "2025-04-01T16:28:42.035Z"
   },
   {
    "duration": 15,
    "start_time": "2025-04-01T16:28:42.078Z"
   },
   {
    "duration": 13,
    "start_time": "2025-04-01T16:28:42.094Z"
   },
   {
    "duration": 31,
    "start_time": "2025-04-01T16:28:42.109Z"
   },
   {
    "duration": 10,
    "start_time": "2025-04-01T16:28:42.141Z"
   },
   {
    "duration": 6,
    "start_time": "2025-04-01T16:28:42.153Z"
   },
   {
    "duration": 4,
    "start_time": "2025-04-01T16:29:12.318Z"
   },
   {
    "duration": 36,
    "start_time": "2025-04-01T16:29:12.325Z"
   },
   {
    "duration": 10,
    "start_time": "2025-04-01T16:29:12.366Z"
   },
   {
    "duration": 9,
    "start_time": "2025-04-01T16:29:12.378Z"
   },
   {
    "duration": 8,
    "start_time": "2025-04-01T16:29:12.388Z"
   },
   {
    "duration": 33,
    "start_time": "2025-04-01T16:29:12.398Z"
   },
   {
    "duration": 14,
    "start_time": "2025-04-01T16:29:12.433Z"
   },
   {
    "duration": 7,
    "start_time": "2025-04-01T16:29:12.449Z"
   },
   {
    "duration": 4,
    "start_time": "2025-04-01T16:29:12.460Z"
   },
   {
    "duration": 5,
    "start_time": "2025-04-01T16:29:12.466Z"
   },
   {
    "duration": 21,
    "start_time": "2025-04-01T16:29:12.472Z"
   },
   {
    "duration": 55,
    "start_time": "2025-04-01T16:29:12.494Z"
   },
   {
    "duration": 3,
    "start_time": "2025-04-01T16:29:12.551Z"
   },
   {
    "duration": 7,
    "start_time": "2025-04-01T16:29:12.556Z"
   },
   {
    "duration": 5,
    "start_time": "2025-04-01T16:29:12.565Z"
   },
   {
    "duration": 5,
    "start_time": "2025-04-01T16:29:12.572Z"
   },
   {
    "duration": 3,
    "start_time": "2025-04-01T16:29:12.579Z"
   },
   {
    "duration": 62,
    "start_time": "2025-04-01T16:29:12.583Z"
   },
   {
    "duration": 11,
    "start_time": "2025-04-01T16:29:12.647Z"
   },
   {
    "duration": 12,
    "start_time": "2025-04-01T16:29:12.660Z"
   },
   {
    "duration": 10,
    "start_time": "2025-04-01T16:29:12.674Z"
   },
   {
    "duration": 9,
    "start_time": "2025-04-01T16:29:12.686Z"
   },
   {
    "duration": 7,
    "start_time": "2025-04-01T16:29:12.698Z"
   },
   {
    "duration": 4,
    "start_time": "2025-04-01T16:29:12.733Z"
   },
   {
    "duration": 9,
    "start_time": "2025-04-01T16:29:12.739Z"
   },
   {
    "duration": 3,
    "start_time": "2025-04-01T16:29:12.749Z"
   },
   {
    "duration": 4,
    "start_time": "2025-04-01T16:29:12.754Z"
   },
   {
    "duration": 16,
    "start_time": "2025-04-01T16:29:12.760Z"
   },
   {
    "duration": 10,
    "start_time": "2025-04-01T16:29:12.778Z"
   },
   {
    "duration": 4,
    "start_time": "2025-04-01T16:29:12.789Z"
   },
   {
    "duration": 44,
    "start_time": "2025-04-01T16:29:12.795Z"
   },
   {
    "duration": 113,
    "start_time": "2025-04-01T16:29:12.841Z"
   },
   {
    "duration": 75,
    "start_time": "2025-04-01T16:29:12.956Z"
   },
   {
    "duration": 1082,
    "start_time": "2025-04-01T17:04:30.968Z"
   },
   {
    "duration": 38,
    "start_time": "2025-04-01T17:04:32.052Z"
   },
   {
    "duration": 10,
    "start_time": "2025-04-01T17:04:32.091Z"
   },
   {
    "duration": 8,
    "start_time": "2025-04-01T17:04:32.103Z"
   },
   {
    "duration": 19,
    "start_time": "2025-04-01T17:04:32.114Z"
   },
   {
    "duration": 15,
    "start_time": "2025-04-01T17:04:32.137Z"
   },
   {
    "duration": 17,
    "start_time": "2025-04-01T17:04:32.155Z"
   },
   {
    "duration": 8,
    "start_time": "2025-04-01T17:04:32.173Z"
   },
   {
    "duration": 3,
    "start_time": "2025-04-01T17:04:32.182Z"
   },
   {
    "duration": 5,
    "start_time": "2025-04-01T17:04:32.187Z"
   },
   {
    "duration": 40,
    "start_time": "2025-04-01T17:04:32.195Z"
   },
   {
    "duration": 25,
    "start_time": "2025-04-01T17:04:32.237Z"
   },
   {
    "duration": 6,
    "start_time": "2025-04-01T17:04:32.264Z"
   },
   {
    "duration": 7,
    "start_time": "2025-04-01T17:04:32.275Z"
   },
   {
    "duration": 4,
    "start_time": "2025-04-01T17:04:32.283Z"
   },
   {
    "duration": 5,
    "start_time": "2025-04-01T17:04:32.289Z"
   },
   {
    "duration": 4,
    "start_time": "2025-04-01T17:04:32.295Z"
   },
   {
    "duration": 58,
    "start_time": "2025-04-01T17:04:32.301Z"
   },
   {
    "duration": 16,
    "start_time": "2025-04-01T17:04:32.360Z"
   },
   {
    "duration": 15,
    "start_time": "2025-04-01T17:04:32.378Z"
   },
   {
    "duration": 13,
    "start_time": "2025-04-01T17:04:32.396Z"
   },
   {
    "duration": 28,
    "start_time": "2025-04-01T17:04:32.413Z"
   },
   {
    "duration": 11,
    "start_time": "2025-04-01T17:04:32.444Z"
   },
   {
    "duration": 7,
    "start_time": "2025-04-01T17:04:32.457Z"
   },
   {
    "duration": 10,
    "start_time": "2025-04-01T17:04:32.466Z"
   },
   {
    "duration": 5,
    "start_time": "2025-04-01T17:04:32.478Z"
   },
   {
    "duration": 6,
    "start_time": "2025-04-01T17:04:32.485Z"
   },
   {
    "duration": 8,
    "start_time": "2025-04-01T17:04:32.492Z"
   },
   {
    "duration": 39,
    "start_time": "2025-04-01T17:04:32.502Z"
   },
   {
    "duration": 4,
    "start_time": "2025-04-01T17:04:32.544Z"
   },
   {
    "duration": 10,
    "start_time": "2025-04-01T17:04:32.550Z"
   },
   {
    "duration": 199,
    "start_time": "2025-04-01T17:04:32.561Z"
   },
   {
    "duration": 7,
    "start_time": "2025-04-01T17:04:32.832Z"
   },
   {
    "duration": 1058220,
    "start_time": "2025-04-01T17:04:32.841Z"
   },
   {
    "duration": 75,
    "start_time": "2025-04-01T17:22:11.063Z"
   },
   {
    "duration": 46799,
    "start_time": "2025-04-01T17:22:11.139Z"
   },
   {
    "duration": 98,
    "start_time": "2025-04-01T17:22:57.940Z"
   },
   {
    "duration": 110943,
    "start_time": "2025-04-01T17:22:58.039Z"
   },
   {
    "duration": 9,
    "start_time": "2025-04-01T17:24:48.984Z"
   },
   {
    "duration": 6,
    "start_time": "2025-04-01T17:24:48.995Z"
   },
   {
    "duration": 324,
    "start_time": "2025-04-01T17:24:49.005Z"
   },
   {
    "duration": 716,
    "start_time": "2025-04-01T19:45:49.332Z"
   }
  ],
  "kernelspec": {
   "display_name": "base",
   "language": "python",
   "name": "python3"
  },
  "language_info": {
   "codemirror_mode": {
    "name": "ipython",
    "version": 3
   },
   "file_extension": ".py",
   "mimetype": "text/x-python",
   "name": "python",
   "nbconvert_exporter": "python",
   "pygments_lexer": "ipython3",
   "version": "3.12.4"
  },
  "toc": {
   "base_numbering": 1,
   "nav_menu": {},
   "number_sections": true,
   "sideBar": true,
   "skip_h1_title": true,
   "title_cell": "Table of Contents",
   "title_sidebar": "Contents",
   "toc_cell": false,
   "toc_position": {},
   "toc_section_display": true,
   "toc_window_display": false
  }
 },
 "nbformat": 4,
 "nbformat_minor": 2
}
